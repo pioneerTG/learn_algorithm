{
 "cells": [
  {
   "attachments": {},
   "cell_type": "markdown",
   "metadata": {},
   "source": [
    "# 1이 될때까지\n",
    "* 어떠한 수 N이 1이 될 때까지 다음의 두 과정 중 하나를 반복적으로 선택하여 수행하려고 한다.\n",
    "* 단, 두 번째 연산은 N이 K로 나누어떨어질 때만 선택할 수 있다.\n",
    "  1. N에서 1을 뺀다.\n",
    "  2. N을 K로 나눈다.\n",
    "* 예를 들어 N이 17, K가 4라고 가정하자. 이때 1번의 과정을 한 번 수행하면 N은 16이 된다. 이후에 2번의 과정을 두 번 수행하면 N은 1이 된다.\n",
    "* 결과적으로 이 경우 전체 과정을 실행한 횟수는 3이 된다. 이는 N을 1로 만드는 최소 횟수이다.\n",
    "* N과 K가 주어질 때 N이 1이 될 때 까지 1번 혹은 2번의 과정을 수행해야 하는 최소 횟수를 구하는 프로그램을 작성하시오.\n",
    "\n",
    "## 입력 조건\n",
    "* 첫째 줄에 N($2 \\le N \\le 100,000$)과 K($2 \\le K \\le 100,000$)가 공백으로 구분되며 각각 자연수로 주어진다. 이때 입력으로 주어지는 N은 항상 K보다 크거나 같다.\n",
    " \n",
    "## 출력 조건\n",
    "* 첫째 줄에 N이 1이 될 때까지 1번 혹은 2번의 과정을 수행해야 하는 횟수의 최소값을 출력한다.\n",
    "\n",
    "### 입력 예시\n",
    "* 25 5\n",
    "\n",
    "### 출력 예시\n",
    "* 2"
   ]
  },
  {
   "cell_type": "code",
   "execution_count": 1,
   "metadata": {},
   "outputs": [
    {
     "name": "stdout",
     "output_type": "stream",
     "text": [
      "2\n"
     ]
    }
   ],
   "source": [
    "# 단순하게 푸는 답안 예시\n",
    "n, k = map(int, input().split())\n",
    "result = 0\n",
    "\n",
    "# N이 K 이상이라면 K로 계속 나누기\n",
    "while n >= k :\n",
    "    # N이 K로 나누어 떨어지지 않는다면 N에서 1씩 빼기\n",
    "    while n % k != 0 : \n",
    "        n -= 1\n",
    "        result += 1\n",
    "    # K로 나누기\n",
    "    n //= k\n",
    "    result += 1\n",
    "\n",
    "# 마지막으로 남은 수에 대하여 1씩 빼기\n",
    "while n > 1 : \n",
    "    n -= 1\n",
    "    result += 1\n",
    "\n",
    "print(result)"
   ]
  },
  {
   "cell_type": "code",
   "execution_count": 12,
   "metadata": {},
   "outputs": [
    {
     "name": "stdout",
     "output_type": "stream",
     "text": [
      "target:24\n",
      "n:6\n",
      "target:4\n",
      "n:1\n",
      "target:0\n",
      "result:8\n",
      "n : 0\n",
      "n-1 : -1\n",
      "result:7\n",
      "7\n"
     ]
    }
   ],
   "source": [
    "# N이 K의 배수가 되도록 효율적으로 한 번에 빼는 방식으로 소스코드 작성\n",
    "n, k = map(int, input().split())\n",
    "result = 0\n",
    "\n",
    "# 27 4가 들어오면\n",
    "while True : \n",
    "    # (N == K로 나누어 떨어지는 수)가 될 때까지 1씩 빼기\n",
    "    target = (n // k)*k # 나눈 몫에서 k 곱해 k로 나누어 떨어지는 N에 가까운 최대 배수 계산 // (1) 24 (2) 4 (3) 0\n",
    "    result += (n-target) # // (1) 3 (2) 6 (3) 8\n",
    "    n = target # // (1) 24 (2) 4 (3) 0\n",
    "    # N이 K보다 작을 때(더 이상 나눌 수 없을 때) 반복 문 탈출\n",
    "    if n < k :\n",
    "        break\n",
    "    # K로 나누기\n",
    "    result += 1 # // (1) 4 (2) 7\n",
    "    n //= k # // (1) 6 (2) 1\n",
    "\n",
    "# 마지막으로 남은 수에 대하여 1씩 빼기\n",
    "result += (n-1) # // (1) 8 += (0-1)\n",
    "print(result) # // 7"
   ]
  }
 ],
 "metadata": {
  "kernelspec": {
   "display_name": "Python 3",
   "language": "python",
   "name": "python3"
  },
  "language_info": {
   "codemirror_mode": {
    "name": "ipython",
    "version": 3
   },
   "file_extension": ".py",
   "mimetype": "text/x-python",
   "name": "python",
   "nbconvert_exporter": "python",
   "pygments_lexer": "ipython3",
   "version": "3.9.7"
  },
  "orig_nbformat": 4
 },
 "nbformat": 4,
 "nbformat_minor": 2
}
