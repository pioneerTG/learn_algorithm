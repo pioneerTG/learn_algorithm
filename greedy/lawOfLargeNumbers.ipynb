{
 "cells": [
  {
   "attachments": {},
   "cell_type": "markdown",
   "metadata": {},
   "source": [
    "# 큰수의 법칙\n",
    "* 배열의 크기 N, 숫자가 더해지는 횟수 M, 그리고 K가 주어질 때 큰 수의 법칙에 따른 결과를 출력하시오.\n",
    "  \n",
    "## 입력조건\n",
    "* 첫째 줄에 N($2 \\le N \\le 1,000$), M($1 \\le M \\le 10,000$), K($1 \\le K \\le 10,000$)의 자연수가 주어지며, 각 자연수는 공백으로 구분한다.\n",
    "* 둘째 줄에 N개의 자연수가 주어진다. 각 자연수는 공백으로 구분한다. 단, 각각의 자연수는 1 이상 10,000 이하의 수로 주어진다.\n",
    "* 입력으로 주어지는 K는 항상 M보다 작거나 같다.\n",
    "  \n",
    "## 출력조건\n",
    "* 첫째 줄에 동빈이의 큰 수의 법칙에 따라 더해진 답을 출력한다.\n",
    "\n",
    "### 입력 예시\n",
    "* 5 8 3\n",
    "* 2 4 5 4 6\n",
    "\n",
    "### 출력 예시\n",
    "* 46"
   ]
  },
  {
   "cell_type": "code",
   "execution_count": 1,
   "metadata": {},
   "outputs": [
    {
     "name": "stdout",
     "output_type": "stream",
     "text": [
      "46\n"
     ]
    }
   ],
   "source": [
    "# N, M, K를 공백으로 구분하여 입력받기\n",
    "n, m, k = map(int, input().split()) # 배열길이 n, 더할 횟수 m, 한 숫자 연속사용횟수 k\n",
    "# N개의 수를 공백으로 구분하여 입력받기\n",
    "data = list(map(int, input().split()))\n",
    "\n",
    "data.sort() # 입력받은 수들 정렬하기\n",
    "first = data[n - 1] # 가장 큰 수\n",
    "second = data[n - 2] # 두번째 큰수\n",
    "\n",
    "result = 0\n",
    "\n",
    "while True : \n",
    "    for i in range(k) : # 가장 큰 수를 K번 더하기\n",
    "        if m == 0 : # m이 0이라면 반복문 탈출\n",
    "            break\n",
    "        result += first\n",
    "        m -= 1 # 더할 때마다 총 덧셈 횟수 m을 1씩 빼기\n",
    "    if m == 0 : # m이 0이라면 반복문 탈출\n",
    "        break\n",
    "    result += second # 두 번째로 큰 수를 한 번 더하기\n",
    "    m -= 1 # 더할 때마다 1씩 빼기\n",
    "\n",
    "print(result)"
   ]
  }
 ],
 "metadata": {
  "kernelspec": {
   "display_name": "Python 3",
   "language": "python",
   "name": "python3"
  },
  "language_info": {
   "codemirror_mode": {
    "name": "ipython",
    "version": 3
   },
   "file_extension": ".py",
   "mimetype": "text/x-python",
   "name": "python",
   "nbconvert_exporter": "python",
   "pygments_lexer": "ipython3",
   "version": "3.9.7"
  },
  "orig_nbformat": 4
 },
 "nbformat": 4,
 "nbformat_minor": 2
}
