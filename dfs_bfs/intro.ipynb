{
 "cells": [
  {
   "attachments": {},
   "cell_type": "markdown",
   "metadata": {},
   "source": [
    "# DFS(Depth-First Search, 깊이 우선 탐색)\n",
    "* 그래프에서 깊은 부분을 우선적으로 탐색하는 알고리즘\n",
    "* 그래프는 노드(Node)와 간선(Edge)로 표현. 이때 노드를 정점(Vertex)이라고도 말함.\n",
    "* 그래프 탐색이란 하나의 노드를 시작으로 다수의 노드를 방문하는 것을 말함.\n",
    "* 두 노드가 간선으로 연결되어 있다면 '두 노드는 인접하다(Adjacent)'라고 표현.\n",
    "* 프로그래밍에서 그래프는 크게 2가지 방식으로 표현 가능\n",
    "\n",
    "## 인접 행렬(Adjacency Matrix) : 2차원 배열로 그래프 연결 관계를 표현하는 방식\n",
    "* 2차원 배열에 각 노드가 연결된 형태를 기록하는 방식\n",
    "* 연결이 되어 있지 않은 노드끼리는 무한(Infinity)의 비용이라고 작성한다.\n",
    "* 실제 코드에서 논리적으로 정답이 될 수 없는 큰 값 중에서 999999999.987654321 등의 값으로 초기화하는 경우가 많다.\n",
    "* 이렇게 그래프를 인접 행렬 방식으로 처리할 때는 아래과 같이 데이터를 초기화 함\n",
    "  \n",
    "## 인접 리스트(Adjacency List) : 리스트로 그래프의 연결 관계를 표현하는 방식 \n",
    "* 모든 노드에 연결된 노드에 대한 정보를 차례대로 연결하여 저장.\n",
    "* '연결 리스트'라는 자료구조를 이용해 구현"
   ]
  },
  {
   "cell_type": "code",
   "execution_count": 1,
   "metadata": {},
   "outputs": [
    {
     "name": "stdout",
     "output_type": "stream",
     "text": [
      "[[0, 7, 5], [7, 0, 999999999], [5, 999999999, 0]]\n"
     ]
    }
   ],
   "source": [
    "## 인접 행렬\n",
    "\n",
    "INF = 999999999 # 무한의 비용 선언\n",
    "\n",
    "# 2차원 리스트를 이용해 인접 행렬 표현\n",
    "graph = [\n",
    "  [0, 7, 5],\n",
    "  [7, 0, INF],\n",
    "  [5, INF, 0]\n",
    "]\n",
    "\n",
    "print(graph)"
   ]
  },
  {
   "cell_type": "code",
   "execution_count": 2,
   "metadata": {},
   "outputs": [
    {
     "name": "stdout",
     "output_type": "stream",
     "text": [
      "[[(1, 7), (2, 5)], [(0, 7)], [(0, 5)]]\n"
     ]
    }
   ],
   "source": [
    "## 인접 리스트\n",
    "\n",
    "# 행(Row)이 3개인 2차원 리스트로 인접 리스트 표현\n",
    "graph = [[] for _ in range(3)]\n",
    "\n",
    "# 노드 0에 연결된 노드 정보 저장(노드, 거리)\n",
    "graph[0].append((1,7))\n",
    "graph[0].append((2,5))\n",
    "\n",
    "# 노드 1에 연결된 노드 정보 저장(노드, 거리)\n",
    "graph[1].append((0,7))\n",
    "\n",
    "# 노드 2에 연결된 노드 정보 저장(노드, 거리)\n",
    "graph[2].append((0, 5))\n",
    "\n",
    "print(graph)"
   ]
  },
  {
   "attachments": {},
   "cell_type": "markdown",
   "metadata": {},
   "source": [
    "### 두 방식의 차이\n",
    "* 메모리 측면에서 보자면 인접 행렬 방식은 모든 관계를 저장하므로 노드 개수가 많을수록 메모리가 불필요하게 낭비.\n",
    "* 반면 인접 리스트 방식은 연결된 정보만을 저장하므로, 메모리를 효율적으로 사용, 인접 행렬 방식에 비해 특정한 두 노드가 연결되어 있는지에 대한 정보를 얻는 속도가 느림.\n",
    "* 인접 리스트 방식은 연결된 데이터를 하나씩 확인해야 하기 때문\n",
    "\n",
    "* DFS는 스택 자료구조를 이용하며 구체적인 동작 과정은 다음과 같다.\n",
    "    1. 탐색 시작 노드를 스택에 삽입하고 방문 처리\n",
    "    2. 스택의 최상단 노드에 방문하지 않은 인접 노드가 있으면 그 인접 노드를 스택에 넣고 방문 처리. 방문하지 않은 인접 노드가 없으면 스택에서 최상단 노드를 꺼냄.\n",
    "    3. 2번의 과정을 더 이상 수행할 수 없을 때까지 반복.\n",
    "   * '방문 처리'는 스택에 한 번 삽입되어 처리된 노드가 다시 삽입되지 않게 체크하는 것을 의미. 방문 처리를 함으로써 각 노드를 한 번씩만 처리할 수 있다.\n",
    "\n",
    "* 다음과 같은 그래프가 있을 때\n",
    "```\n",
    "              1-------2\n",
    "            /  \\       \\\n",
    "           /    \\       7  \n",
    "          3      \\     / \\\n",
    "         / \\      \\   /   \\\n",
    "        4---5       8      6\n",
    "```\n",
    "  * 결과적으로 노드의 탐색 순서(스택에 들어간 순서)\n",
    "  * 1 -> 2 -> 7 -> 6 -> 8 -> 3 -> 4 -> 5\n",
    "  * 깊이 우선 탐색 알고리즘인 DFS는 스택 자료구조에 기초한다는 점에서 구현이 간단.\n",
    "  * 실제로는 스택을 쓰지 않아도 되며 탐색을 수행함에 있어서 데이터 개수가 N개인 경우 O(N)의 시간 소요되는 특징.\n",
    "  * 스택 이용하는 알고리즘이므로 실제 구현은 재귀 함수를 이용했을 때 매우 간결하게 구현. "
   ]
  },
  {
   "cell_type": "code",
   "execution_count": 3,
   "metadata": {},
   "outputs": [
    {
     "name": "stdout",
     "output_type": "stream",
     "text": [
      "[False, False, False, False, False, False, False, False, False]\n",
      "1 [False, True, False, False, False, False, False, False, False]\n",
      "2 [False, True, True, False, False, False, False, False, False]\n",
      "7 [False, True, True, False, False, False, False, True, False]\n",
      "6 [False, True, True, False, False, False, True, True, False]\n",
      "8 [False, True, True, False, False, False, True, True, True]\n",
      "3 [False, True, True, True, False, False, True, True, True]\n",
      "4 [False, True, True, True, True, False, True, True, True]\n",
      "5 [False, True, True, True, True, True, True, True, True]\n"
     ]
    }
   ],
   "source": [
    "# DFS 메서드 정의\n",
    "def dfs(graph, v, visited) : \n",
    "    # 현재 노드를 방문 처리\n",
    "    visited[v] = True\n",
    "    print(v, end=' ')\n",
    "    # 현재 노드와 연결된 다른 노드를 재귀적으로 방문\n",
    "    for i in graph[v]:\n",
    "        if not visited[i] : \n",
    "            dfs(graph, i, visited)\n",
    "            \n",
    "# 각 노드가 연결된 정보를 리스트 자료형으로 표현(2차원 리스트)\n",
    "graph = [\n",
    "  [],\n",
    "  [2, 3, 8],\n",
    "  [1, 7],\n",
    "  [1, 4, 5],\n",
    "  [3, 5],\n",
    "  [3, 4],\n",
    "  [7],\n",
    "  [2, 6, 8],\n",
    "  [1, 7]\n",
    "]\n",
    "\n",
    "# 각 노드가 방문된 정보를 리스트 자료형으로 표현(1차원 리스트)\n",
    "visited = [False] * 9\n",
    "print(visited)\n",
    "\n",
    "# 정의된 DFS 함수 호출\n",
    "dfs(graph, 1, visited)"
   ]
  },
  {
   "attachments": {},
   "cell_type": "markdown",
   "metadata": {},
   "source": [
    "# BFS(Breadth First Search, 너비 우선 탐색)\n",
    "* 가까운 노드부터 탐색하는 알고리즘\n",
    "* 선입선출 방식인 큐 자료구조를 이용하는 것이 정석.\n",
    "* 인접한 노드를 반복적으로 큐에 넣도록 알고리즘을 작성하면 자연스럽게 먼저 들어온 것이 먼저 나가게 되어, 가까운 노드부터 탐색을 진행하게 됨\n",
    "  * 알고리즘의 동작 방식\n",
    "    1. 탐색 시작 노드를 큐에 삽입하고 방문 처리를 한다.\n",
    "    2. 큐에서 노드를 꺼내 해당 노드의 인접 노드 중에서 방문하지 않은 노드를 모두 큐에 삽입하고 방문 처리\n",
    "    3. 2번의 과정을 더 이상 수행할 수 없을 때까지 반복.\n",
    "\n",
    "* 다음과 같은 그래프가 있을 때\n",
    "```\n",
    "              1-------2\n",
    "            /  \\       \\\n",
    "           /    \\       7  \n",
    "          3      \\     / \\\n",
    "         / \\      \\   /   \\\n",
    "        4---5       8      6\n",
    "```\n",
    "  * 숫자가 작은 노드부터 먼저 큐에 삽입한다고 가정. 큐에 원소가 들어올 때, 위에서 들어오고 아래쪽에서 꺼낸다고 가정.\n",
    "    1. 시작 노드인 '1'을 큐에 삽입하고 방문 처리. [1]\n",
    "    2. 큐에서 노드 '1'을 꺼내고 방문하지 않은 인접 노드 '2', '3', '8'을 모두 큐에 삽입하고 방문 처리를 한다. [2, 3, 8]\n",
    "    3. 큐에서 노드 '2'를 꺼내고 방문하지 않은 인접 노드 '7'을 큐에 삽입하고 방문 처리. [3, 8, 7]\n",
    "    4. 큐에서 노드 '3'을 꺼내고 방문하지 않은 인접 노드 '4', '5'를 모두 큐에 삽입하고 방문 처리. [8, 7, 4, 5]\n",
    "    5. 큐에서 노드 '8'을 꺼내고 방문하지 않은 인접 노드가 없으므로 무시. [7, 4, 5]\n",
    "    6. 큐에서 노드 '7'을 꺼내고 방문하지 않은 인접 노드 '6'을 큐에 삽입하고 방문 처리 [4, 5, 6]\n",
    "    7. 남아 있는 노드에 방문하지 않은 인접 노드가 없다. 따라서 모든 노드를 차례대로 꺼내면 최종적으로 다음과 같다.\n",
    "    * 1 -> 2 -> 3 -> 8 -> 7 -> 4 -> 5 -> 6\n",
    "\n",
    "* 너비 우선 탐색 알고리즘인 BFS는 큐 자료구조에 기초한다는 점에서 구현이 간단.\n",
    "* 실제로 구현함에 있어 앞서 언급한 대로 deque 라이브러리를 사용하는 것이 좋으며 탐색을 수행함에 있어서 O(N)의 시간이 소요.\n",
    "* 일반적인 경우 실제 수행 시간은 DFS보다 좋은 편이라는 점까지만 추가로 기억"
   ]
  },
  {
   "cell_type": "code",
   "execution_count": 4,
   "metadata": {},
   "outputs": [
    {
     "name": "stdout",
     "output_type": "stream",
     "text": [
      "1 2 3 8 7 4 5 6 "
     ]
    }
   ],
   "source": [
    "# BFS 예제\n",
    "from collections import deque\n",
    "\n",
    "# BFS 메서드 정의\n",
    "def bfs(graph, start, visited):\n",
    "    # 큐(Queue) 구현을 위해 deque 라이브러리 사용\n",
    "    queue = deque([start])\n",
    "    # 현재 노드를 방문 처리\n",
    "    visited[start] = True\n",
    "    # 큐가 빌 때까지 반복\n",
    "    while queue:\n",
    "        # 큐에서 하나의 원소를 뽑아 출력하기\n",
    "        v = queue.popleft()\n",
    "        print(v, end=' ')\n",
    "        # 아직 방문하지 않은 인접한 원소들을 큐에 삽입\n",
    "        for i in graph[v]:\n",
    "            if not visited[i]:\n",
    "                queue.append(i)\n",
    "                visited[i] = True\n",
    "                \n",
    "# 각 노드가 연결된 정보를 표현 (2차원 리스트)\n",
    "graph = [\n",
    "    [],\n",
    "    [2, 3, 8],\n",
    "    [1, 7],\n",
    "    [1, 4, 5],\n",
    "    [3, 5],\n",
    "    [3, 4],\n",
    "    [7],\n",
    "    [2, 6, 8],\n",
    "    [1, 7]\n",
    "]\n",
    "\n",
    "# 각 노드가 방문된 정보를 표현 (1차원 리스트)\n",
    "visited = [False] * 9\n",
    "# 정의된 BFS 함수 호출\n",
    "bfs(graph, 1, visited)"
   ]
  }
 ],
 "metadata": {
  "kernelspec": {
   "display_name": "Python 3",
   "language": "python",
   "name": "python3"
  },
  "language_info": {
   "codemirror_mode": {
    "name": "ipython",
    "version": 3
   },
   "file_extension": ".py",
   "mimetype": "text/x-python",
   "name": "python",
   "nbconvert_exporter": "python",
   "pygments_lexer": "ipython3",
   "version": "3.9.7"
  },
  "orig_nbformat": 4
 },
 "nbformat": 4,
 "nbformat_minor": 2
}
