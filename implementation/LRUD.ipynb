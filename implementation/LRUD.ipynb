{
 "cells": [
  {
   "attachments": {},
   "cell_type": "markdown",
   "metadata": {},
   "source": [
    "# 상하좌우\n",
    "여행가 A는 N x N 크기의 정사각형 공간 위에 서 있다.\n",
    "이 공간은 1 x 1 크기의 정사각형으로 나누어져 있다.\n",
    "가장 왼쪽 위 좌표는 (1,1)이며, 가장 오른쪽 아래 좌표는 (N, N)에 해당한다.\n",
    "여행가 A는 상, 하, 좌, 우 방향으로 이동할 수있으며, 시작 좌표는 항상 (1, 1)이다.\n",
    "## 입력조건\n",
    "* 첫째 줄에 공간의 크기를 나타내는 N이 주어진다.\n",
    "* 둘째 줄에 여행가 A가 이동할 계획서 내용이 주어진다. ($1 \\le N \\le 100$)\n",
    "## 출력조건\n",
    "* 첫째 줄에 여행가 A가 최종적으로 도착할 지점의 좌표(X,Y)를 공백으로 구분하여 출력한다.\n",
    "### 입력 예시\n",
    "5\n",
    "R R R U D D\n",
    "### 출력 예시\n",
    "3 4"
   ]
  },
  {
   "cell_type": "code",
   "execution_count": 1,
   "metadata": {},
   "outputs": [
    {
     "name": "stdout",
     "output_type": "stream",
     "text": [
      "5 4\n"
     ]
    }
   ],
   "source": [
    "# N을 입력받기\n",
    "n = int(input())\n",
    "x, y = 1, 1 # 시작 좌표\n",
    "plans = input().split() ## 공백 구분 방향입력\n",
    "\n",
    "# L, R, U, D에 따른 이동 방향\n",
    "dx = [0, 0, -1, 1] # x축, 행\n",
    "dy = [-1, 1, 0, 0] # y축, 열\n",
    "move_types = ['L','R','U','D']\n",
    "\n",
    "# 이동 계획을 하나씩 확인\n",
    "for plan in plans:\n",
    "  # 이동 후 좌표 구하기\n",
    "    for i in range(len(move_types)): # 움직임 종류만큼(4번)\n",
    "        if plan == move_types[i] : # plan(이동방향)과 move_types의 i번째 인덱스 일치하면.\n",
    "            nx = x + dx[i] \n",
    "            ny = y + dy[i]\n",
    "    # 공간을 벗어나는 경우 무시\n",
    "    if nx < 1 or ny < 1 or nx > n or ny > n :\n",
    "        continue\n",
    "    #이동 수행\n",
    "    x, y = nx, ny\n",
    "    \n",
    "print(x,y)\n"
   ]
  }
 ],
 "metadata": {
  "kernelspec": {
   "display_name": "Python 3",
   "language": "python",
   "name": "python3"
  },
  "language_info": {
   "codemirror_mode": {
    "name": "ipython",
    "version": 3
   },
   "file_extension": ".py",
   "mimetype": "text/x-python",
   "name": "python",
   "nbconvert_exporter": "python",
   "pygments_lexer": "ipython3",
   "version": "3.9.7"
  },
  "orig_nbformat": 4
 },
 "nbformat": 4,
 "nbformat_minor": 2
}
