{
 "cells": [
  {
   "attachments": {},
   "cell_type": "markdown",
   "metadata": {},
   "source": [
    "# 왕실의 나이트\n",
    "* 왕실 정원은 체스판과 같은 8 x 8 좌표 평면이다.\n",
    "* 왕실 정원의 특정한 한 칸에 나이트가 서있다. \n",
    "* 나이트는 이동을 할 때는 L자 형태로만 이동할 수 있으며 정원 밖으로는 나갈 수 없다.\n",
    "* 나이트는 특정한 위치에서 다음과 같이 2가지 경우로 이동할 수 있다.\n",
    "    1. 수평으로 두 칸 이동한 뒤에 수직으로 한 칸 이동하기.\n",
    "    2. 수직으로 두 칸 이동한 뒤에 수평으로 한 칸 이동하기.\n",
    "* 이처럼 8 x 8 좌표 평면상에서 나이트 위치가 주어졌을 때 나이트가 이동할 수 있는 경우의 수를 출력하는 프로그램 작성\n",
    "* 정원에서 행 위치를 표현할 때는 1부터 8로 표현하며, 열 위치를 표현할 때는 a부터 h로 한다.\n",
    "\n",
    "## 입력조건\n",
    "* 첫째 줄에 8x8 좌표 평면상에서 현재 나이트가 위치한 곳의 좌표를 나타내는 두 문자로 구성된 문자열이 입력된다.\n",
    "* 입력 문자는 a1처럼 열과 행으로 이뤄진다.\n",
    "## 출력조건\n",
    "* 첫째 줄에 나이트가 이동할 수 있는 경우의 수를 출력하시오.\n",
    "\n",
    "### 입력 예시\n",
    "a1\n",
    "### 출력 예시\n",
    "2"
   ]
  },
  {
   "cell_type": "code",
   "execution_count": 3,
   "metadata": {},
   "outputs": [
    {
     "name": "stdout",
     "output_type": "stream",
     "text": [
      "2\n"
     ]
    }
   ],
   "source": [
    "# 위치 입력\n",
    "input_data = input()\n",
    "row = int(input_data[1]) # 행\n",
    "col = int(ord(input_data[0])) - int(ord('a')) + 1 # 열\n",
    "\n",
    "# 나이트가 이동할 수 있는 8가지 방향 정의\n",
    "steps = [(-2, -1), (-2, 1), (-1, 2), (-1, -2), (1, -2), (1, 2), (2, -1), (2, 1)]\n",
    "\n",
    "# 8가지 방향에 대하여 각 위치로 이동이 가능한지 확인\n",
    "result = 0\n",
    "for step in steps : \n",
    "    # 이동하고자 하는 위치 확인\n",
    "    next_row = row + step[0]\n",
    "    next_col = col + step[1]\n",
    "    # 해당 위치로 이동이 가능하다면 카운트 증가\n",
    "    if next_row >= 1 and next_col >= 1 and next_row <= 8 and next_col <= 8 :\n",
    "        result += 1\n",
    "        \n",
    "print(result) "
   ]
  }
 ],
 "metadata": {
  "kernelspec": {
   "display_name": "Python 3",
   "language": "python",
   "name": "python3"
  },
  "language_info": {
   "codemirror_mode": {
    "name": "ipython",
    "version": 3
   },
   "file_extension": ".py",
   "mimetype": "text/x-python",
   "name": "python",
   "nbconvert_exporter": "python",
   "pygments_lexer": "ipython3",
   "version": "3.9.7"
  },
  "orig_nbformat": 4
 },
 "nbformat": 4,
 "nbformat_minor": 2
}
