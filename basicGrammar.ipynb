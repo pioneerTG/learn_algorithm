{
 "cells": [
  {
   "attachments": {},
   "cell_type": "markdown",
   "metadata": {},
   "source": [
    "# 이것이 취업을 위한 코딩 테스트다 with 파이썬 (416p~ 파이썬 문법)\n",
    "## <1> 자료형\n",
    "### 실수형\n",
    "* 파이썬에서는 변수에 소수점을 붙인 수를 대입하면 실수형 변수로 처리\n",
    "* 소수부가 0이거나, 정수부가 0인 소수는 0을 생략하고 작성 가능"
   ]
  },
  {
   "cell_type": "code",
   "execution_count": 1,
   "metadata": {},
   "outputs": [
    {
     "name": "stdout",
     "output_type": "stream",
     "text": [
      "5.0 0.5\n"
     ]
    }
   ],
   "source": [
    "# 소수부가 0\n",
    "a = 5.\n",
    "# 정수부가 0\n",
    "b = .5\n",
    "\n",
    "print(a, b)"
   ]
  },
  {
   "attachments": {},
   "cell_type": "markdown",
   "metadata": {},
   "source": [
    "* 파이선에서 실수형 표시할 때 e나 E를 이용한 지수 표현 방식 사용\n",
    "  * e 다음에 오는 수는 10의 지부수 의미\n",
    "  * 1e9라고 입력하면 10의 9제곱 의미\n",
    "\n",
    "* 소수점 값을 비교하는 작업이 필요할 땐 원화는 결과를 얻지 못 할수 있으므로 round()함수 이용\n",
    "  * round()의 첫 번째 인자는 실수형 데이터, 두 번째 인자는 반올림하고자 하는 위치 -1"
   ]
  },
  {
   "cell_type": "code",
   "execution_count": 3,
   "metadata": {},
   "outputs": [
    {
     "name": "stdout",
     "output_type": "stream",
     "text": [
      "0.8999999999999999\n",
      "False\n"
     ]
    }
   ],
   "source": [
    "a = 0.3 + 0.6\n",
    "print(a)\n",
    "\n",
    "if a == 0.9:\n",
    "  print(True)\n",
    "else:\n",
    "  print(False)"
   ]
  },
  {
   "cell_type": "code",
   "execution_count": 4,
   "metadata": {},
   "outputs": [
    {
     "name": "stdout",
     "output_type": "stream",
     "text": [
      "0.9\n",
      "True\n"
     ]
    }
   ],
   "source": [
    "a = 0.3 + 0.6\n",
    "# 흔히 코딩 테스트 문제에서는 실수형 데이터 비교할 때 소수점 다섯 번째 자리에서 반올림한 결과가 같으면 정답으로 인정하는 식으로 처리\n",
    "print(round(a,4))\n",
    "\n",
    "if round(a, 4) == 0.9:\n",
    "  print(True)\n",
    "else:\n",
    "  print(False)"
   ]
  },
  {
   "attachments": {},
   "cell_type": "markdown",
   "metadata": {},
   "source": [
    "### 수 자료형 연산 p.419\n",
    "* 나누기 연산자 3개 구분 필요\n",
    "  * 파이썬에서 나누기 연산자 (/)는 나눠진 결과를 기본적으로 실수형으로 처리.\n",
    "  * 코딩 테스트 문제를 풀 때에는 나머지 연산자 (%)를 이용해야 할 때가 많음.\n",
    "    * ex) 특정 변수 a가 홀수인지 알아볼 때에는 'a를 2로 나눈 나머지가 1인지' 확인한다. 이럴 때는 나머지 연산자 (%)사용.\n",
    "  * 나눈 결과에서 몫만을 얻고자 할 때는 몫 연산자(//)를 이용\n",
    "\n",
    "* 그 외에도 거듭제곱 연산자 (**)를 비롯, 다양한 연산자가 존재"
   ]
  },
  {
   "cell_type": "code",
   "execution_count": 4,
   "metadata": {},
   "outputs": [
    {
     "name": "stdout",
     "output_type": "stream",
     "text": [
      "2.3333333333333335\n",
      "1\n",
      "2\n",
      "125\n"
     ]
    }
   ],
   "source": [
    "a = 7\n",
    "b = 3\n",
    "\n",
    "# 나누기\n",
    "print(a/b) # 2.3333333333333335\n",
    "\n",
    "# 나머지\n",
    "print(a%b) # 1\n",
    "\n",
    "# 몫\n",
    "print(a//b) # 2\n",
    "\n",
    "# 거듭제곱\n",
    "a = 5\n",
    "b = 3\n",
    "\n",
    "print(a**b) # 5를 3번 곱함"
   ]
  },
  {
   "attachments": {},
   "cell_type": "markdown",
   "metadata": {},
   "source": [
    "### 리스트 자료형 p.420\n",
    "* 리스트는 여러 개의 데이터를 연속적으로 담아 처리하기 위해 사용.\n",
    "* 파이썬의 리스트 자료형은 C나 자바와 같은 프로그래밍 언어의 배열Array기능을 포함\n",
    "* 내부적으로 연결 리스트 자료구조를 채택하고 있어 append(), remove()등 메서드 지원\n",
    "* 파이썬 리스트는 C++의 STL vector와 유사, 리스트 대신에 배열 혹은 테이블이라 부르기도 함\n",
    "\n",
    "### 리스트 만들기\n",
    "* 리스트는 대괄호 ([])안에 원소를 넣어 초기화하며 쉼표(,)로 원소 구분.\n",
    "* 리스트 원소 접근할 때는 인덱스값을 괄호 안에 넣는다. 인덱스는 0부터 시작\n",
    "* 비어있는 리스트 선언할 때는 list()혹은 간단히 대괄호([])이용."
   ]
  },
  {
   "cell_type": "code",
   "execution_count": 15,
   "metadata": {},
   "outputs": [
    {
     "name": "stdout",
     "output_type": "stream",
     "text": [
      "[1, 2, 3, 4, 5, 6, 7, 8, 9]\n",
      "5\n",
      "[]\n",
      "[]\n",
      "[0, 0, 0, 0, 0, 0, 0, 0, 0, 0]\n"
     ]
    }
   ],
   "source": [
    "a = [1, 2, 3, 4, 5, 6, 7, 8, 9]\n",
    "print(a)\n",
    "\n",
    "# 인덱스 4, 즉 다섯 번째 원소에 접근\n",
    "print(a[4])\n",
    "\n",
    "# 빈 리스트 선언방법 1\n",
    "a = list()\n",
    "print(a)\n",
    "\n",
    "# 빈 리스트 선언방법 2\n",
    "a = []\n",
    "print(a)\n",
    "\n",
    "# 코딩 테스트 문제에서는 주로 크기가 N인 1차원 리스트를 초기화해야 하는데 다음 방식으로 하면 편리\n",
    "# 크기가 N이고, 모든 값이 0인 1차원 리스트 초기화\n",
    "n = 10\n",
    "a = [0] * n\n",
    "print(a)"
   ]
  },
  {
   "attachments": {},
   "cell_type": "markdown",
   "metadata": {},
   "source": [
    "### 리스트의 인덱싱과 슬라이싱\n",
    "* 인덱스값을 입력하여 리스트의 특정한 원소에 접근하는 것을 인덱싱(indexing)이라고 함\n",
    "* 파이썬의 인덱스값은 양의 정수와 음의 정수를 모두 사용가능, 음의 정수를 넣으면 원소를 거꾸로 탐색\n",
    "* 예를 들어 인덱스에 -1을 넣으면 가장 마지막 원소가 출력. 이런 성질을 이용해 인덱싱을 하여 특정 원소에 접근한 뒤, 그 값을 간단하게 바꿀 수 있다."
   ]
  },
  {
   "cell_type": "code",
   "execution_count": 20,
   "metadata": {},
   "outputs": [
    {
     "name": "stdout",
     "output_type": "stream",
     "text": [
      "9\n",
      "7\n",
      "[1, 2, 3, 7, 5, 6, 7, 8, 9]\n"
     ]
    }
   ],
   "source": [
    "a = [1, 2, 3, 4, 5, 6, 7, 8, 9]\n",
    "# 뒤에서 첫 번째 원소 출력\n",
    "print(a[-1])\n",
    "\n",
    "# 뒤에서 세 번째 원소 출력\n",
    "print(a[-3])\n",
    "\n",
    "# 네 번째 원소 값 변경\n",
    "a[3] = 7\n",
    "print(a)"
   ]
  },
  {
   "attachments": {},
   "cell_type": "markdown",
   "metadata": {},
   "source": [
    "* 리스트에서 연속적인 위치를 갖는 원소들을 가져와야 할 때는 슬라이싱(slicing)을 이용할 수 있다.\n",
    "* 이때는 대괄호 안에 콜론(:)을 넣어서 시작 인덱스와 (끝 인덱스 -1)을 설정할 수 있다.\n",
    "  * ex) a라는 리스트의 두 번째 원소부터 네 번째 원소까지의 모든 데이터를 갖는 리스틀 가져오고 싶다면 a[1:4]\n",
    "  * 인덱스는 0부터 출발하므로 두 번째는 1, 끝 인덱스의 경우 1을 뺀 값의 인덱스까지 처리되므로 4(4-1 즉 3번 인덱스까지 출력 함)"
   ]
  },
  {
   "cell_type": "code",
   "execution_count": 22,
   "metadata": {},
   "outputs": [
    {
     "name": "stdout",
     "output_type": "stream",
     "text": [
      "[2, 3, 4]\n"
     ]
    }
   ],
   "source": [
    "a = [1, 2, 3, 4, 5, 6, 7, 8, 9]\n",
    "print(a[1:4])"
   ]
  },
  {
   "attachments": {},
   "cell_type": "markdown",
   "metadata": {},
   "source": [
    "### 리스트 컴프리헨션\n",
    "* 리스트를 초기화하는 방법 중 하나\n",
    "* 대괄호([]) 안에 조건문과 반복문을 넣는 방식으로 리스트를 초기화\n",
    "* for문 안에서 반복되는 변수를 콜론(:)다음에 줄을 바꿔 들여쓰기한것이 아니라, for문앞에 작성"
   ]
  },
  {
   "cell_type": "code",
   "execution_count": 28,
   "metadata": {},
   "outputs": [
    {
     "name": "stdout",
     "output_type": "stream",
     "text": [
      "[1, 3, 5, 7, 9, 11, 13, 15, 17, 19]\n",
      "[1, 3, 5, 7, 9, 11, 13, 15, 17, 19]\n",
      "[[0, 0, 0, 0], [0, 0, 0, 0], [0, 0, 0, 0]]\n",
      "45\n",
      "Hello World!\n",
      "Hello World!\n",
      "Hello World!\n",
      "Hello World!\n",
      "Hello World!\n"
     ]
    }
   ],
   "source": [
    "# 0부터 19까지의 수 중에서 홀수만 포함하는 리스트를 만돌가자 할 때는 다음과 같이 리스트 초기화.\n",
    "# 한 줄의 소스코드로 리스트를 초기화 할 수 있어 매우 간편.\n",
    "\n",
    "# 0부터 19까지의 수 중에서 홀수만 포함하는 리스트\n",
    "array = [i for i in range(20) if i % 2 == 1] # for i in range(20) : range(20)에서 0~19값을 i에 대입, if i % 2 == 1 : i에서 2를 나눴을때 나머지가 1이면 즉 홀수이면, i를 array리스트에 대입\n",
    "# for 앞에는 들어갈 값\n",
    "print(array)\n",
    "\n",
    "# 일반적인 소스코드로 작성했을때\n",
    "array = []\n",
    "for i in range(20):\n",
    "  if i % 2 == 1:\n",
    "    array.append(i)\n",
    "\n",
    "print(array)\n",
    "\n",
    "# 이러한 리스트 컴프리헨션은 코딩 테스트에서 2차원 리스트를 초기화할 때 매우 효과적으로 사용될 수 있다.\n",
    "# N X M 크기의 2차원 리스트 초기화\n",
    "n = 3\n",
    "m = 4\n",
    "array = [[0] * m for _ in range(n) ] # 원소값 0이 m개 담긴 배열을 n개 생성\n",
    "print(array)\n",
    "\n",
    "# 언더바 (_)의 역할\n",
    "# 파이썬 자료구조/알고리즘에는 반복을 수행하되 반복을 위한 변수의 값을 무시하고자 할 때 언더바(_)를 자주 사용.\n",
    "# 예를 들어 1부터 9까지의 자연수를 더할 때는 변수를 사용하지만, 단순히 'Hello World'를 5번 출력할 때는 언더바(_)를 이용해 무시할 수 있다.\n",
    "summary = 0\n",
    "for i in range(1, 10):\n",
    "  summary += i\n",
    "print(summary)\n",
    "\n",
    "for _ in range(5):\n",
    "  print(\"Hello World!\")"
   ]
  },
  {
   "attachments": {},
   "cell_type": "markdown",
   "metadata": {},
   "source": [
    "* 참고로 특정 크기의 2차원 리스트를 초기화할 때는 반드시 리스트 컴프리헨션을 이용해야 한다.\n",
    "* 만약 다음과 같이 N x M 크기의 2차원 리스트를 초기화한다면, 의도하지 않은 결과가 나올 수 있다."
   ]
  },
  {
   "cell_type": "code",
   "execution_count": 30,
   "metadata": {},
   "outputs": [
    {
     "name": "stdout",
     "output_type": "stream",
     "text": [
      "[[0, 0, 0, 0], [0, 0, 0, 0], [0, 0, 0, 0]]\n",
      "[[0, 5, 0, 0], [0, 5, 0, 0], [0, 5, 0, 0]]\n"
     ]
    }
   ],
   "source": [
    "# N X M 크기의 2차원 리스트 초기화(잘못된 방법)\n",
    "n = 3\n",
    "m = 4\n",
    "array = [[0]*m]*n\n",
    "print(array)\n",
    "\n",
    "array[1][1] = 5\n",
    "print(array)\n",
    "\n",
    "# 실행 결과를 확인하면 3개의 리스트에서 인덱스 1에 해당하는 원소들의 값이 모두 5로 바뀜\n",
    "# 이는 내부적으로 포함된 3개의 리스트가 모두 동일한 객체에 대한 3개의 레퍼런스로 인식되기 때문.\n",
    "# 따라서 특정 크기를 가지는 2차원 리스트를 초기화할 때에는 리스트 컴프리헨션을 이용해야 한다는 점을 기억."
   ]
  },
  {
   "attachments": {},
   "cell_type": "markdown",
   "metadata": {},
   "source": [
    "### 리스트 관련 기타 메서드\n",
    "* 변수명.append() : 리스트에 원소를 하나 삽입할 때 사용. 시간 복잡도 O(1)\n",
    "* 변수명.sort() : 기본 정렬 기능으로 오름차순으로 정렬. 시간 복잡도 O(NlogN)\n",
    "* 변수명.sort(reverse=True) : 내림차순으로 정렬\n",
    "* 변수명.reverse() : 리스트의 원소의 순서를 모두 뒤집어 놓는다. 시간 복잡도 O(N)\n",
    "* 변수명.insert(삽입할 위치 인덱스, 삽입할 값) : 특정한 인덱스 위치에 원소를 삽입할 때 사용. 시간 복잡도 O(N)\n",
    "* 변수명.count(특정 값) : 리스트에서 특정한 값을 가지는 데이터의 개수를 셀 때 사용. 시간 복잡도 O(N)\n",
    "* 변수명.remove(특정 값) : 특정한 값을 갖는 원소를 제거하는데, 값을 가진 원소가 여러 개면 하나만 제거. 시간 복잡도 O(N)"
   ]
  },
  {
   "cell_type": "code",
   "execution_count": 39,
   "metadata": {},
   "outputs": [
    {
     "name": "stdout",
     "output_type": "stream",
     "text": [
      "기본 리스트: [1, 4, 3]\n",
      "삽입: [1, 4, 3, 2]\n",
      "오름차순 정렬: [1, 2, 3, 4]\n",
      "내림차순 정렬: [4, 3, 2, 1]\n",
      "원소 뒤집기: [1, 2, 3, 4]\n",
      "인덱스 2에 3추가: [1, 2, 3, 3, 4]\n",
      "값이 3인 데이터 개수: 2\n",
      "값이 1인 데이터 삭제: [2, 3, 3, 4]\n"
     ]
    }
   ],
   "source": [
    "a = [1, 4, 3]\n",
    "print(\"기본 리스트:\", a)\n",
    "\n",
    "# 리스트에 원소 삽입\n",
    "a.append(2)\n",
    "print(\"삽입:\", a)\n",
    "\n",
    "# 오름차순 정렬\n",
    "a.sort()\n",
    "print(\"오름차순 정렬:\", a)\n",
    "\n",
    "# 내림차순 정렬\n",
    "a.sort(reverse=True)\n",
    "print(\"내림차순 정렬:\", a)\n",
    "\n",
    "# 리스트 원소 뒤집기\n",
    "a.reverse()\n",
    "print(\"원소 뒤집기:\", a)\n",
    "\n",
    "# 특정 인덱스에 데이터 추가\n",
    "a.insert(2, 3)\n",
    "print(\"인덱스 2에 3추가:\", a)\n",
    "\n",
    "# 특정 값인 데이터 개수 세기\n",
    "print(\"값이 3인 데이터 개수:\", a.count(3))\n",
    "\n",
    "# 특정 값 데이터 삭제\n",
    "a.remove(1)\n",
    "print(\"값이 1인 데이터 삭제:\", a)"
   ]
  },
  {
   "attachments": {},
   "cell_type": "markdown",
   "metadata": {},
   "source": [
    "* 이 중에서 insert() 함수와 append(), remove()를 특히 더 눈여겨 두자.\n",
    "* 코딩 테스트에서 insert() 함수를 사용할 때 원소의 개수가 N개면, 시간 복잡도는 O(N)이다.\n",
    "* 파이썬 리스트 자료형의 append() 함수는 O(1)에 수행되는데 반해 insert() 함수는 동작이 느리다.\n",
    "  * 중간에 원소를 삽입한 뒤에, 리스트의 원소 위치를 조정해줘야 하기 때문이다. 따라서 insert() 함수를 남발하면 '시간 초과'로 테스트를 통과하지 못할 수도 있다.\n",
    "* remove()의 시간 복잡도는 insert() 함수와 마찬가지로 O(N)이라는 점을 유의.\n",
    "  * insert() 함수와 마찬가지로 리스트 중간에 있는 원소 삭제한 뒤에, 리스트의 원소 위치를 조정해주어야 하기 때문에 O(N)이 소요.\n",
    "  \n",
    "### 그러면 특정한 값의 원소를 모두 제거하려면 어떻게 해야 할까?\n",
    "* 다른 프로그래밍 언어에서는 remove_all()과 같은 함수로 간단하게 특정한 값을 가지는 모든 원소를 제거할 수 있다.\n",
    "* 하지만 파이썬의 경우 그러한 함수를 기본적으로 제공해주지 않으므로 다음과 같은 방법 이용하면 좋다.\n",
    "* 다음 코드에서 (1)부분은 a에 포함된 원소를 하나씩 확인하며 그 원소가 remove_set에 포함되어 있지 않았을 때만 리스트 변수인 result에 넣겠다는 의미이다."
   ]
  },
  {
   "cell_type": "code",
   "execution_count": 40,
   "metadata": {},
   "outputs": [
    {
     "name": "stdout",
     "output_type": "stream",
     "text": [
      "[1, 2, 4]\n"
     ]
    }
   ],
   "source": [
    "a = [1,2,3,4,5,5,5]\n",
    "remove_set = [3,5]\n",
    "\n",
    "# remove_set에 포함되지 않는 값만을 저장\n",
    "result = [i for i in a if i not in remove_set] # a변수에 담긴 리스트를 불러와 원소값을 순서대로 i에 대입, 그리고 i값이 remove_set에 해당되지 않을 경우에만 result 변수에 대입\n",
    "print(result)"
   ]
  },
  {
   "attachments": {},
   "cell_type": "markdown",
   "metadata": {},
   "source": [
    "## 문자열 자료형 p.426\n",
    "### 문자열 초기화\n",
    "* 문자열 변수 초기화는 ''나 \"\"사용.\n",
    "* 문자열 안에 ',\"포함 시켜야할때는 서로 상반되는 문자열로 구성하거나(\"\"에 쌓인 문자열에 ', ''에 쌓인 문자열에 \") 백슬래시(\\)뒤에 원하는 만큼 포함\n",
    "### 문자열 연산\n",
    "* 파이썬 문자열은 내부적으로 리스트와 같이 처리, 따라서 인덱싱과 슬라이싱 사용 가능"
   ]
  },
  {
   "attachments": {},
   "cell_type": "markdown",
   "metadata": {},
   "source": [
    "### 튜플 자료형 427p\n",
    "* 리스트와 거의 비슷하지만 다음 두 가지 차이가 있다.\n",
    "  * 한 번 선언된 값을 변경할 수 없다.\n",
    "  * 리스트는 대괄호([])를 이용하지만, 튜플은 소괄호 (())이용.\n",
    "\n",
    "* 튜플 자료형은 그래프 알고리즘 구현할 때 자주 사용, 각 원소의 성질이 서로 다를 때 주로 사용."
   ]
  },
  {
   "cell_type": "code",
   "execution_count": 3,
   "metadata": {},
   "outputs": [
    {
     "name": "stdout",
     "output_type": "stream",
     "text": [
      "(1, 2, 3, 4)\n",
      "(1, '가')\n"
     ]
    },
    {
     "ename": "TypeError",
     "evalue": "'tuple' object does not support item assignment",
     "output_type": "error",
     "traceback": [
      "\u001b[1;31m---------------------------------------------------------------------------\u001b[0m",
      "\u001b[1;31mTypeError\u001b[0m                                 Traceback (most recent call last)",
      "Cell \u001b[1;32mIn[3], line 6\u001b[0m\n\u001b[0;32m      3\u001b[0m b \u001b[39m=\u001b[39m (\u001b[39m1\u001b[39m,\u001b[39m\"\u001b[39m\u001b[39m가\u001b[39m\u001b[39m\"\u001b[39m)\n\u001b[0;32m      4\u001b[0m \u001b[39mprint\u001b[39m(b)\n\u001b[1;32m----> 6\u001b[0m a[\u001b[39m2\u001b[39;49m] \u001b[39m=\u001b[39m \u001b[39m7\u001b[39m\n",
      "\u001b[1;31mTypeError\u001b[0m: 'tuple' object does not support item assignment"
     ]
    }
   ],
   "source": [
    "a = (1, 2, 3, 4)\n",
    "print(a)\n",
    "b = (1,\"가\")\n",
    "print(b)\n",
    "\n",
    "a[2] = 7"
   ]
  },
  {
   "attachments": {},
   "cell_type": "markdown",
   "metadata": {},
   "source": [
    "### 사전 자료형 428p\n",
    "* 키(Key)와 값(Value)의 쌍을 데이터로 가지는 자료형\n",
    "* 사전 자료형이 사용되는 대표적인 예시는 사전(Dictionary)이다.\n",
    "* 파이썬의 사전 자료형은 내부적으로 '해시 테이블(Hash Table)'을 이용하므로 기본적인 데이터의 검색 및 수정에 있어 O(1)의 시간에 처리할 수 있다."
   ]
  },
  {
   "cell_type": "code",
   "execution_count": 2,
   "metadata": {},
   "outputs": [
    {
     "name": "stdout",
     "output_type": "stream",
     "text": [
      "'사과'를 키로 가지는 데이터가 존재합니다.\n",
      "dict_keys(['사과', '바나나', '코코넛'])\n",
      "dict_values(['Apple', 'Banana', 'Coconut'])\n",
      "Apple\n",
      "Banana\n",
      "Coconut\n"
     ]
    }
   ],
   "source": [
    "# 사전형 데이터 선언\n",
    "data = dict()\n",
    "# 값 추가\n",
    "data['사과'] = 'Apple'\n",
    "data['바나나'] = 'Banana'\n",
    "data['코코넛'] = 'Coconut'\n",
    "# 특정한 원소가 있는지 검사할 때는 '원소 in 사전'의 형태를 사용. 리스트나 튜플에 대해서도 사용할 수 있는 문법\n",
    "if '사과' in data:\n",
    "  print(\"'사과'를 키로 가지는 데이터가 존재합니다.\")\n",
    "  \n",
    "# 키 데이터만 담은 리스트\n",
    "key_list = data.keys()\n",
    "# 값 데이터만 담은 리스트\n",
    "value_list = data.values()\n",
    "print(key_list)\n",
    "print(value_list)\n",
    "\n",
    "# 각 키에 따른 값을 하나씩 출력\n",
    "for key in key_list:\n",
    "  print(data[key])"
   ]
  },
  {
   "attachments": {},
   "cell_type": "markdown",
   "metadata": {},
   "source": [
    "### 집합 자료형\n",
    "* 파이썬은 집합(Set)을 처리하기 위한 집합 자료형을 제공\n",
    "* 집합은 기본적으로 리스트 혹은 문자열을 이용해서 만들수 있음\n",
    "  * 중복을 허용하지 않음\n",
    "  * 순서가 없다\n",
    "* 리스트나 튜플은 순서가 있기 때문에 인덱싱을 통해 자료형의 값을 얻을 수 있는 반면, 사전 자료형과 집합 자료형은 순서가 없기 때문에 인덱싱으로 값을 얻을 수 없다.\n",
    "* 집합 자료형에는 키가 존재하지 않고, 값 데이터만을 담음.\n",
    "* 특정 원소가 존재하는지 검사하는 연산의 시간 복잡도는 사전 자료형과 마찬가지로 O(1)\n",
    "* 특히 '특정한 데이터가 이미 등장한 적이 있는지 여부'를 체크할 때 매우 효과적\n",
    "* 초기화할 때는 set() 함수를 이용하거나, 중괄호 ({}) 안에 각 원소를 콤마(,)를 기준으로 구분해서 넣으면 됨"
   ]
  },
  {
   "cell_type": "code",
   "execution_count": 4,
   "metadata": {},
   "outputs": [
    {
     "name": "stdout",
     "output_type": "stream",
     "text": [
      "{1, 2, 3, 4, 5}\n",
      "{1, 2, 3, 4, 5}\n"
     ]
    }
   ],
   "source": [
    "# 집합 자료형 초기화 방법 1\n",
    "data = set([1, 1, 2, 3, 4, 4, 5])\n",
    "print(data)\n",
    "\n",
    "# 집합 자료형 초기화 방법 2\n",
    "data = {1, 1, 2, 3, 4, 4, 5}\n",
    "print(data)"
   ]
  },
  {
   "attachments": {},
   "cell_type": "markdown",
   "metadata": {},
   "source": [
    "### 집합 자료형의 연산\n",
    "* 기본적인 집한 연산으로는 합, 교, 차집합 연산\n",
    "  * 합집합 계산 : |\n",
    "  * 교집합 연산 : &\n",
    "  * 차집합 연산 : -"
   ]
  },
  {
   "cell_type": "code",
   "execution_count": 5,
   "metadata": {},
   "outputs": [
    {
     "name": "stdout",
     "output_type": "stream",
     "text": [
      "{1, 2, 3, 4, 5, 6, 7}\n",
      "{3, 4, 5}\n",
      "{1, 2}\n"
     ]
    }
   ],
   "source": [
    "a = set([1,2,3,4,5])\n",
    "b = set([3,4,5,6,7])\n",
    "\n",
    "print(a | b) # 합\n",
    "print(a & b) # 교\n",
    "print(a - b) # 차"
   ]
  },
  {
   "attachments": {},
   "cell_type": "markdown",
   "metadata": {},
   "source": [
    "### 집합 자료형 관련 함수\n",
    "* 집합 자료형 또한 다양한 함수 존재.\n",
    "* 하나의 집합 데이터에 값을 추가할 때는 add()함수. \n",
    "* 여러 개의 값을 한꺼번에 추가하고자 할 때는 update()함수\n",
    "* 특정 값 제거할 때는 remove()\n",
    "* add(), remove() 함수는 모두 시간 복잡도가 O(1)이다."
   ]
  },
  {
   "cell_type": "code",
   "execution_count": 1,
   "metadata": {},
   "outputs": [
    {
     "name": "stdout",
     "output_type": "stream",
     "text": [
      "{1, 2, 3}\n",
      "{1, 2, 3, 4}\n",
      "{1, 2, 3, 4, 5, 6}\n",
      "{1, 2, 4, 5, 6}\n"
     ]
    }
   ],
   "source": [
    "data = set([1,2,3])\n",
    "print(data)\n",
    "\n",
    "# 새로운 원소 추가\n",
    "data.add(4)\n",
    "print(data)\n",
    "\n",
    "# 새로운 원소 여러 개 추가\n",
    "data.update([5, 6])\n",
    "print(data)\n",
    "\n",
    "# 특정한 값을 갖는 원소 삭제\n",
    "data.remove(3)\n",
    "print(data)"
   ]
  },
  {
   "attachments": {},
   "cell_type": "markdown",
   "metadata": {},
   "source": [
    "## <2>조건문\n",
    "\n",
    "if 조건문 1:\n",
    "  조건문 1 True일때\n",
    "elif 조건문2:\n",
    "  조건문1이 아닌 조건문 2에 해당\n",
    "else :\n",
    "  위가 모두 False일시\n",
    "\n",
    "* 파이썬에서 들여쓰기는 스페이스 4번 입력하여 작성하는 것이 공식\n",
    "  * tab 2번도 상관없지만, 스페이스 쓰도록 하기\n",
    "\n",
    "### 비교 연산자\n",
    "* ==, !=, >, <, >=, <=\n",
    "  \n",
    "### 논리 연산자\n",
    "* and, or, not\n",
    "\n",
    "### 파이썬의 기타 연산자\n",
    "* X in 리스트 : 리스트 안에 X가 들어가 있을 때 참(True)이다.\n",
    "* X not in 문자열 : 문자열 안에 X가 들어가 있지 않을 때 참(True)\n",
    "\n",
    "* 조건문의 값이 참(True)이라고 해도, 아무것도 처리하고 싶지 않을 때 pass 문 이용 할 수 있다.\n",
    "  * ex) 코드 작성하면서 디버깅하는 과정에서 일단 조건문의 형태만 만들어 놓고 조건문을 처리하는 부분은 비워놓고 싶을 때"
   ]
  },
  {
   "cell_type": "code",
   "execution_count": 16,
   "metadata": {},
   "outputs": [
    {
     "name": "stdout",
     "output_type": "stream",
     "text": [
      "프로그램을 종료합니다\n",
      "Success\n",
      "Success\n",
      "[1, 2, 4]\n",
      "[1, 2, 4]\n"
     ]
    }
   ],
   "source": [
    "score = 85\n",
    "if score >= 80:\n",
    "  pass # 나중에 작성할 소스코드\n",
    "else:\n",
    "  print('성적이 80점 미만입니다.')\n",
    "\n",
    "print('프로그램을 종료합니다')\n",
    "\n",
    "# 조건문에 실행될 소스코드가 한 줄인 경우, 줄 바꿈없이 간략하게 표현할 수 있다.\n",
    "score = 85\n",
    "\n",
    "if score >= 80 : result = \"Success\"\n",
    "else: result = \"Fail\"\n",
    "print(result)\n",
    "\n",
    "# 더 나아가, 조건부 표현식을 이용하면 if_else문을 한줄에 작성해 사용 가능\n",
    "score = 85\n",
    "result = \"Success\" if score >= 80 else \"Fail\"\n",
    "print(result)\n",
    "\n",
    "# 조건부 표현식은 리스트에 있는 원소의 값을 변경해, 또 다른 리스트를 만들고자 할 때 매우 간결하게 사용 가능\n",
    "# ex) 리스트에서 특정한 원소 값 없앨때 일반적 방법.\n",
    "a = [1,2,3,4,5,5,5]\n",
    "remove_set = [3,5]\n",
    "\n",
    "result = []\n",
    "for i in a:\n",
    "  if i not in remove_set:\n",
    "    result.append(i)\n",
    "print(result)\n",
    "\n",
    "# 조건부 표현식 사용하면 아래와 같이 간결히 작성\n",
    "a = [1, 2, 3, 4, 5, 5, 5]\n",
    "remove_set = [3,5]\n",
    "\n",
    "result = [i for i in a if i not in remove_set]\n",
    "print(result)"
   ]
  },
  {
   "attachments": {},
   "cell_type": "markdown",
   "metadata": {},
   "source": [
    "### 파이썬 조건문 내에서의 부등식\n",
    "* 다른 언어와 달리 파이썬은 조건문 안에서 수학의 부등식을 그대로 사용할 수 있다. 예를 들어 \"x > 0 and x < 20\"과 \"0 < x < 20\"은 같은 결과를 반환.\n",
    "* 다만, 파이썬이 아닌 다른 대부분의 언어에선 단순히 \"0 < X < 20\"이라고 하면, 의도치 않은 결과가 반환될수 있다."
   ]
  },
  {
   "cell_type": "code",
   "execution_count": 18,
   "metadata": {},
   "outputs": [
    {
     "name": "stdout",
     "output_type": "stream",
     "text": [
      "x는 0이상 20미만의 수입니다.\n",
      "x는 0이상 20미만의 수입니다.\n"
     ]
    }
   ],
   "source": [
    "# 다음의 두 조건문이 동일\n",
    "x = 15\n",
    "if x > 0 and x < 20 : \n",
    "  print(\"x는 0이상 20미만의 수입니다.\")\n",
    "  \n",
    "x = 15\n",
    "if 0 < x < 20 : \n",
    "  print(\"x는 0이상 20미만의 수입니다.\")"
   ]
  },
  {
   "attachments": {},
   "cell_type": "markdown",
   "metadata": {},
   "source": [
    "## <3>반복문\n",
    "### while문\n",
    "* 조건문이 참일 때 한해, 반복적으로 코드 수행\n",
    "### for문\n",
    "* for 변수 in 리스트:\n",
    "    실행할 소스코드\n",
    "#### 반복문 안에서 continue를 만나면 프로그램의 흐름은 반복문의 처음으로 돌아감"
   ]
  },
  {
   "cell_type": "code",
   "execution_count": 20,
   "metadata": {},
   "outputs": [
    {
     "name": "stdout",
     "output_type": "stream",
     "text": [
      "while 45\n",
      "while 45\n"
     ]
    }
   ],
   "source": [
    "# 1부터 9까지 더하는 함수 for, while로 작성\n",
    "i = 1\n",
    "result = 0\n",
    "while i <= 9 : \n",
    "    result += i\n",
    "    i+=1\n",
    "print(\"while\",result)\n",
    "\n",
    "result = 0\n",
    "for i in range(1, 10) : # range()의 값으로 하나의 값만 넣으면, 시작 값은 0\n",
    "    result += i\n",
    "print(\"for\",result)"
   ]
  },
  {
   "attachments": {},
   "cell_type": "markdown",
   "metadata": {},
   "source": [
    "## <4>함수\n",
    "* 똑같은 코드가 방복적으로 사용되어야 할 때, 즉 동일한 알고리즘을 반복적으로 수행해야 할 때 함수는 중요하게 사용됨\n",
    "* 파이썬에서 함수의 구조는 다음과 같다\n",
    "  def 함수명(매개변수):\n",
    "      실행할 소스코드\n",
    "      return 반환 값\n",
    "* 함수를 작성할 때는 함수 내부에서 사용되는 변수의 값을 전달받기 위해 매개변수 정의 가능.\n",
    "* 이후 함수에서 어떠한 값을 반환하고자 할 때는 return이용. 함수에서 매개변수나 return문은 존재하지 않을 수도 있음."
   ]
  },
  {
   "cell_type": "code",
   "execution_count": 2,
   "metadata": {},
   "outputs": [
    {
     "name": "stdout",
     "output_type": "stream",
     "text": [
      "10\n",
      "10\n",
      "함수의 결과: 10\n",
      "함수의 결과: 10\n",
      "10\n",
      "lambda: 10\n"
     ]
    }
   ],
   "source": [
    "# 대표적인 함수의 예시인 더하기 기능을 제공하는 함수 작성\n",
    "def add(a,b):\n",
    "    return a+b\n",
    "\n",
    "print(add(3, 7))\n",
    "\n",
    "# 앞서 언급했듯, 동일한 함수를 return문 없이 작성할 수도 있다. 다음과 같이 함수 안에서 결과까지 출력하도록 하는 경우 return문 없이 함수 작성\n",
    "def add(a,b):\n",
    "    print(a+b)\n",
    "\n",
    "add(3,7)\n",
    "\n",
    "# 함수 호출과정에서 다음과 같이 인자(Argument)를 넘겨줄 때, 파라미터의 변수를 직접 지정해서 값을 넣을 수 있다. 이 경우 매개변수의 순서가 달라도 상관없다는 점이 특징\n",
    "def add(a,b):\n",
    "    print(\"함수의 결과:\", a+b)\n",
    "\n",
    "add(a=3, b=7)\n",
    "add(b=7, a=3)\n",
    "\n",
    "# 그리고 함수 안에서 함수 밖의 변수 데이터를 변경해야 하는 경우가 있다. 이때는 함수에서 global 키워드를 이용하면 된다.\n",
    "a = 0\n",
    "\n",
    "def func():\n",
    "    global a # global 키워드로 변수를 지정하면, 해당 함수에서는 지역 변수를 만들지 않고, 함수 바깥에 선언된 변수를 바로 참조하게 됨.\n",
    "    a +=1\n",
    "  \n",
    "for i in range(10):\n",
    "    func()\n",
    "  \n",
    "print(a)\n",
    "\n",
    "# 끝으로 파이썬에서는 람다 표현식(Lambda Express)을 사용할 수 있다. 람다 표현식을 이용하면 함수를 매우 간단하게 작성하여 적용 가능.\n",
    "# 람다 표현식으로 구현한 add() 메서드\n",
    "print(\"lambda:\",(lambda a, b: a+b)(3,7))"
   ]
  },
  {
   "attachments": {},
   "cell_type": "markdown",
   "metadata": {},
   "source": [
    "## <5> 입출력\n",
    "* 파이썬에서 데이터 입력받을 때 input() 이용.\n",
    "  * input()은 한줄의 문자열을 입력 받도록 해줌. 만약 입력받은 데이터를 정수형 데이터로 처리하려면 문자열을 정수로 바꾸는 int() 함수를 사용해야 한다.\n",
    "* 여러 개의 데이터를 입력받을 때는 데이터가 공백으로 구분되는 경우가 많다. 그래서 입력받은 문자열을 띄어쓰기로 구분하여 각각 정수 자료형의 데이터로 저장하는 코드의 사용 빈도가 매우 높음.\n",
    "  * 이때 list(map(int, input().split()))을 이용.\n",
    "    * 가장 먼저 input()으로 입력받은 문자열을 split()을 이용해 공백으로 나눈 리스트로 바꾼 뒤, map을 이용해 해당 리스트의 모든 원소에 int()함수를 적용\n",
    "    * 최종적으로 그 결과를 다시 list()로 다시 바꿈으로써 입력받은 문자열을 띄어쓰기로 구분하여 각각 숫자 자료형으로 저장하게 됨.\n",
    "    * map으로 처리한 결과를 다시 list()함수를 쓰는 이유 : map은 원본 리스트를 변경하지 않고 새 리스트를 만들기 때문"
   ]
  },
  {
   "cell_type": "code",
   "execution_count": 1,
   "metadata": {},
   "outputs": [
    {
     "name": "stdout",
     "output_type": "stream",
     "text": [
      "[4, 3, 2]\n",
      "3 6 7\n"
     ]
    }
   ],
   "source": [
    "# 코딩 테스트에서 입력을 위해 사용되는 전형적인 소스코드는 다음과 같다\n",
    "# 데이터 개수 입력\n",
    "n = int(input())\n",
    "# 각 데이터를 공백으로 구분하여 입력\n",
    "data = list(map(int, input().split()))\n",
    "\n",
    "data.sort(reverse = True)\n",
    "print(data)\n",
    "\n",
    "# 공백으로 구분된 데이터의 개수가 많지 않다면, 단순히 map(int, input().split())을 이용하는 것도 가능\n",
    "# n, m, k를 공백으로 구분하여 입력\n",
    "n, m, k = map(int, input().split())\n",
    "\n",
    "print(n, m, k)"
   ]
  },
  {
   "cell_type": "code",
   "execution_count": 22,
   "metadata": {},
   "outputs": [],
   "source": [
    "# 입력의 개수가 많은 경우에는 input()을 사용하면 동작 속도가 느려 시간 초과 될 우려가 있음.\n",
    "# 입력 개수가 많을 때는 sys.stdin.readline() 함수를 이용\n",
    "# sys 라이브러리는 다음과 같은 방식으로 사용하며 input() 함수와 같이 한 줄씩 입력받기 위해 사용\n",
    "# readline()으로 입력하면 입력 후 엔터(Enter)가 줄 바꿈 기호로 입력되는데, 이 공백 문자를 제거하려면 rstrip()함수 사용\n",
    "# 짧은 코드이니 관행적으로 외워서 사용\n",
    "\n",
    "# 문자열 입력받기\n",
    "# 쥬피터 환경에서 안 됌\n",
    "import sys\n",
    "\n",
    "data = sys.stdin.readline().rstrip()\n",
    "print(data)"
   ]
  },
  {
   "attachments": {},
   "cell_type": "markdown",
   "metadata": {},
   "source": [
    "* 일부 문제의 경우 출력할 때 문자열과 수를 함께 출력해야 되는 경우가 있다.\n",
    "* 이 경우 단순히 더하기 연산자(+)를 이용하면 오류 발생\n",
    "\n",
    "* 2가지 해결법이 있음\n",
    "  * str() 함수를 이용해 추력하고자 하는 변수 데이터를 문자열로 바꾸기\n",
    "  * 각 자료형을 콤마(,)를 기준으로 구분하여 출력"
   ]
  },
  {
   "cell_type": "code",
   "execution_count": 5,
   "metadata": {},
   "outputs": [
    {
     "name": "stdout",
     "output_type": "stream",
     "text": [
      "정답은 7입니다.\n",
      "정답은 7 입니다\n",
      "정답은 7입니다.\n"
     ]
    }
   ],
   "source": [
    "# 출력할 변수들\n",
    "answer = 7\n",
    "\n",
    "print(\"정답은 \" + str(answer) + \"입니다.\")\n",
    "print(\"정답은\",answer,\"입니다\")\n",
    "\n",
    "# 각 변수를 콤마로 구분하여 출력하는 경우, 변수의 값 사이에 의도치 않은 공백이 삽입될 수도 있다는 점을 유의\n",
    "# Python 3.6 이상의 버전부터 f-string 문법 사용 가능\n",
    "# 문자열 앞에 접두사 'f'를 붙임으로써 사용할 수 있음, 이를 이용하면 단순히 중괄호({}) 안에 변수를 넣음으로써, 자료형의 변환 없이도 바꾸지 않고도 간단히 문자열과 정수를 함께 넣을 수 있다.\n",
    "answer = 7\n",
    "print(f\"정답은 {answer}입니다.\")"
   ]
  },
  {
   "attachments": {},
   "cell_type": "markdown",
   "metadata": {},
   "source": [
    "## <6> 주요 라이브러리의 문법과 유의점\n",
    "* 표준 라이브러리란 특정한 프로개르밍 언어에서 자주 사용된느 표준 소스코드를 미리 구현해 놓은 라이브러리를 의미.\n",
    "* 코딩 테스트를 준비하며 반드시 알아야 하는 라이브러리는 6가지 정도. 여기서 각 라이브러리의 가장 중요하고 알아두어야 할 핵심 내용만 요약 정리\n",
    "* 내장함수\n",
    "  * print(), input()과 같은 기본 입출력 기능부터 sorted()와 같은 정렬기능을 포함하고 있는 기본 내장 라이브러리\n",
    "  * itertools : 파이썬에서 반복되는 형태의 데이터를 처리하는 기능을 제공하는 라이브러리. 순열과 조합 라이브러리를 제공\n",
    "  * heapq : 힙(Heap) 기능을 제공하는 라이브러리. 우선순위 큐 기능을 구현하기 위해 사용\n",
    "  * bisect: 이진 탐색(Binary Search) 기능을 제공하는 라이브러리\n",
    "  * collections: 덱(deque), 카운터(Counter) 등의 유용한 자료구조를 포함하고 있는 라이브러리\n",
    "  * math : 필수적인 수학적 기능을 제공하는 라이브러리. 팩토리얼, 제곱근, 최대공약수(GCD), 삼각함수 관련 함수부터 파이(pi)와 같은 상수 포함\n",
    "\n",
    "### 내장 함수\n",
    "* 별도의 import 명령어 없이 바로 사용할 수 있는 함수\n",
    "  * sum() : 리스트와 같은 iterable 객체가 입력으로 주여졌을 때, 모든 원소의 합을 반환한다.\n",
    "  * min() : 파라미터가 2개 이상 들어왔을 때 가장 작은 값 반환\n",
    "  * max() : 파라미터가 2개 이상 들어왔을 때 가장 큰 값 반환\n",
    "  * eval() : 수학 수식이 문자열 형식으로 들어오면 해당 수식을 계산한 결과를 반환\n",
    "  * sorted() : iterable 객체가 들어오면, 정렬된 결과 반환. key 속성으로 정렬 기준 명시 가능. reverse 속성으로 정렬된 결과 리스트를 뒤집을지의 여부 설정 가능\n",
    "  \n",
    "* 파이썬에서 iterable 객체란 반복 가능한 객체를 말한다. 리스트, 사전 자료형, 튜플 자료형 등이 이에 해당"
   ]
  },
  {
   "cell_type": "code",
   "execution_count": 14,
   "metadata": {},
   "outputs": [
    {
     "name": "stdout",
     "output_type": "stream",
     "text": [
      "sum:15\n",
      "min:1\n",
      "max:9\n",
      "eval:56\n",
      "sorted:[1, 4, 5, 8, 9]\n",
      "sorted(reverse):[9, 8, 5, 4, 1]\n",
      "[('이순신', 75), ('아무개', 50), ('홍길동', 35)]\n",
      "[1, 4, 5, 8, 9]\n"
     ]
    }
   ],
   "source": [
    "result = sum([1,2,3,4,5])\n",
    "print(f\"sum:{result}\")\n",
    "\n",
    "result = min([7,5,9,1,4])\n",
    "print(f\"min:{result}\")\n",
    "\n",
    "result = max([7,5,9,1,4])\n",
    "print(f\"max:{result}\")\n",
    "\n",
    "result = eval(\"(3+5)*7\")\n",
    "print(f\"eval:{result}\")\n",
    "\n",
    "result = sorted([9, 1, 8, 5, 4])\n",
    "print(f\"sorted:{result}\")\n",
    "\n",
    "result = sorted([9, 1, 8, 5, 4], reverse=True)\n",
    "print(f\"sorted(reverse):{result}\")\n",
    "\n",
    "# 파이썬에서는 리스트의 원소로 리스트나 튜플이 존재할 때 특정한 기준에 따라서 정렬 수행 가능\n",
    "# 정렬 기준은 key 속성을 이용해 명시\n",
    "result = sorted([('홍길동',35), ('이순신', 75), ('아무개', 50)], key = lambda x: x[1], reverse=True)\n",
    "print(result)\n",
    "\n",
    "# 리스트와 같은 iterable 객체는 기본적으로 sort() 함수를 내장하고 있어서 굳이 sorted() 함수를 사용하지 않고도 sort() 함수를 사용해서 정렬 가능.\n",
    "# 이 경우 리스트 객체의 내부 값이 정렬된 값으로 바로 변경\n",
    "\n",
    "data = [9, 1, 8, 5, 4]\n",
    "data.sort()\n",
    "print(data)"
   ]
  },
  {
   "attachments": {},
   "cell_type": "markdown",
   "metadata": {},
   "source": [
    "### itertools\n",
    "* 파이썬에서 반복되는 데이터를 처리하는 기능을 포함하고 있는 라이브러리.\n",
    "* 코딩 테스트에서 유용하게 사용 가능한 클래스는 permutations, combinations\n",
    "  * permutations : 리스트와 같은 iterable 객체에서 r개의 데이터를 뽑아 일렬로 나열하는 모든 경우(순열)을 계산 해줌.\n",
    "                  permutations는 클래스이므로 객체 초기화 이후에는 리스트 자료형으로 변환하여 사용해야함.\n",
    "  * combinations : 리스트와 같은 iterable 객체에서 r개의 데이터를 뽑아 순서를 고려하지 않고 나열하는 모든 경우(조합)을 계산.\n",
    "                  combinations는 클래스이므로 객체 초기화 이후에는 리스트 자료형으로 변환하여 사용해야함.\n",
    "  * product : permutations와 같이 리스트와 같은 iterable 객체에서 r개의 데이터를 뽑아 일렬로 나열하는 모든 경우(순열)를 계산한다.\n",
    "              다만 원소를 중복하여 뽑음.\n",
    "              product 객체를 초기화 할 때는 뽑고자 하는 데이터 수를 repeat 속성값으로 넣어준다. \n",
    "              product는 클래스이므로 객체 초기화 이후에는 리스트 자료형으로 변환하여 사용해야함.\n",
    "  * combinations_with_replacement : combinations와 같이 리스트와 같은 iterable 객체에서 r개의 데이터를 뽑아 순서를 고려하지 않고 나열하는 모든 경우(조합)을 계산.\n",
    "                                    다만 원소를 중복해서 뽑음.\n",
    "                                    클래스이므로 객체 초기화 이후에는 리스트 자료형으로 변환하요 사용해야함."
   ]
  },
  {
   "cell_type": "code",
   "execution_count": 12,
   "metadata": {},
   "outputs": [
    {
     "name": "stdout",
     "output_type": "stream",
     "text": [
      "permutations: [('A', 'B', 'C'), ('A', 'C', 'B'), ('B', 'A', 'C'), ('B', 'C', 'A'), ('C', 'A', 'B'), ('C', 'B', 'A')]\n",
      "combinations: [('A', 'B'), ('A', 'C'), ('B', 'C')]\n",
      "product: [('A', 'A'), ('A', 'B'), ('A', 'C'), ('B', 'A'), ('B', 'B'), ('B', 'C'), ('C', 'A'), ('C', 'B'), ('C', 'C')]\n",
      "combinations_with_replacement: [('A', 'A'), ('A', 'B'), ('A', 'C'), ('B', 'B'), ('B', 'C'), ('C', 'C')]\n"
     ]
    }
   ],
   "source": [
    "# permutations를 사용해 리스트['A','B','C']에서 3개(r=3)을 뽑아 나열하는 모든 경우를 출력하는 예시는 다음과 같다\n",
    "from itertools import permutations\n",
    "\n",
    "data=['A','B','C'] # 데이터 준비\n",
    "result = list(permutations(data, 3)) # 모든 순열 구하기\n",
    "\n",
    "print(\"permutations:\",result)\n",
    "\n",
    "# combinations를 사용해 리스트['A','B','C']에서 2개(r=2)를 뽑아 순서에 상관없이 나열하는 모든 경우를 출력하는 예시는 다음과 같다\n",
    "from itertools import combinations\n",
    "\n",
    "data = ['A','B','C'] # 데이터 준비\n",
    "result = list(combinations(data, 2)) # 2개를 뽑는 모든 조합 구하기\n",
    "\n",
    "print(\"combinations:\",result)\n",
    "\n",
    "# product를 사용해 리스트['A','B','C']에서 중복을 포함하여 2개(r=2)를 뽑아 나열하는 모든 경우를 출력하는 예시는 다음과 같다\n",
    "from itertools import product\n",
    "\n",
    "data = ['A','B','C'] # 데이터 준비\n",
    "result = list(product(data, repeat=2)) # 2개를 뽑는 모든 순열 구하기(중복 허용)\n",
    "\n",
    "print(\"product:\",result)\n",
    "\n",
    "# combinations_with_replacement를 사용해 리스트 ['A','B','C']에서 중복을 포함하여 2개(r=2)를 뽑아 순서에 상관없이 나열하는 모든 경우를 출력하는 예시는 다음과 같다.\n",
    "from itertools import combinations_with_replacement\n",
    "\n",
    "data = ['A','B','C'] # 데이터 준비\n",
    "result = list(combinations_with_replacement(data, 2)) # 2개를 뽑는 모든 순열 구하기(중복 허용)\n",
    "\n",
    "print(\"combinations_with_replacement:\",result)"
   ]
  },
  {
   "attachments": {},
   "cell_type": "markdown",
   "metadata": {},
   "source": [
    "### heapq\n",
    "* 파이썬에서는 힙(heap)기능을 위해 heapq 라이브러리 제공\n",
    "* 다익스트라 최단 경로 알고리즘을 포함해 다양한 알고리즘에 우선순위 큐 기능을 구현하고자 할 때 사용.\n",
    "* 이 외에도 PriorityQueue 라이브러리를 사용할 수 있지만, 코딩 테스트 환경에서는 보통 heapq가 더 빠르게 동작하므로 heapq를 이용.\n",
    "* 파이썬은 최소 힙(MinHeap)으로 구성되어 있으므로 단순히 원소를 힙에 전부 넣었다가 빼는 것만으로도 시간 복잡도 O(NlogN)에 오름차순 정렬이 완료됨. 보통 최소 힙 자료 구조의 최상단 원소는 항상 '가장작은 원소'이기 때문\n",
    "  * 힙에 원소 삽입할 때는 heapq.heappush() 메서드 이용.\n",
    "  * 힙에서 원소 꺼내고자 할 때는 heapq.heappop() 메서드 이용\n",
    "* 파이썬에서는 최대 힙(MaxHeap)을 제공하지 않음, 따라서 heapq 라이브러리를 이용하여 최대 힙을 구현해야 할 때는 원소의 부호를 임시로 변경하는 방식 사용.\n",
    "  * 힙에 원소를 삽입하기 전에 잠시 부호를 반대로 바꾸었다가, 힙에서 원소를 꺼낸 뒤에 다시 원소의 부호를 바꾸면 된다."
   ]
  },
  {
   "cell_type": "code",
   "execution_count": 16,
   "metadata": {},
   "outputs": [
    {
     "name": "stdout",
     "output_type": "stream",
     "text": [
      "[0, 1, 2, 3, 4, 5, 6, 7, 8, 9]\n",
      "[9, 8, 7, 6, 5, 4, 3, 2, 1, 0]\n"
     ]
    }
   ],
   "source": [
    "#  힙 정렬(HeapSort)로 구현하는 예제를 통해 heapq의 사용 방법 알아보기\n",
    "import heapq\n",
    "\n",
    "def heapsort(iterable):\n",
    "    h = []\n",
    "    result = []\n",
    "    # 모든 원소를 차례대로 힙에 삽입\n",
    "    for value in iterable:\n",
    "      heapq.heappush(h, value) # 힙에 담을 때는 heapq.heappush()\n",
    "    # 힙에 삽입된 모든 원소를 차례대로 꺼내어 담기\n",
    "    for i in range(len(h)): # h 즉, 함수에 전달된 iterable 길이만큼\n",
    "      result.append(heapq.heappop(h)) # 리스트에 담을 때는 append(), heapq.heappop(h)으로 리스트에서 최소값을 꺼냄 -> append로 리스트에 담음\n",
    "    return result\n",
    "  \n",
    "result = heapsort([1,3,5,7,9,2,4,6,8,0])\n",
    "print(result)\n",
    "\n",
    "# 최대 힙을 구현하여 내림차순 힙 정렬을 구현하는 예시\n",
    "import heapq\n",
    "\n",
    "def heapsort(iterable):\n",
    "    h = []\n",
    "    result = []\n",
    "    # 모든 원소를 차례대로 힙에 삽입\n",
    "    for value in iterable:\n",
    "      heapq.heappush(h, -value) # 힙에 담을 때는 heapq.heappush(), -부호를 달아줌\n",
    "    # 힙에 삽입된 모든 원소를 차례대로 꺼내어 담기\n",
    "    for i in range(len(h)): # h 즉, 함수에 전달된 iterable 길이만큼\n",
    "      result.append(-heapq.heappop(h)) # 리스트에 담을 때는 append(), heapq.heappop(h)으로 리스트에서 최소값을 꺼냄 -> append로 리스트에 담기전 원소의 부호를 바꿈\n",
    "    return result\n",
    "  \n",
    "result = heapsort([1,3,5,7,9,2,4,6,8,0])\n",
    "print(result)"
   ]
  },
  {
   "attachments": {},
   "cell_type": "markdown",
   "metadata": {},
   "source": [
    "### bisect\n",
    "* 파이썬에서는 이진 탐색을 쉽게 구현할 수 있도록 bisect 라이브러리를 제공.\n",
    "* '정렬된 배열'에서 특정한 원소를 찾아야 할 때 매우 효과적으로 사용됨.\n",
    "* bisect_left(), bisect_right() 함수가 가장 중요하게 사용되며, 이 두 함수는 시간 복잡도O(logN)에 동작\n",
    "  * bisect_left(a, x): 정렬된 순서를 유지하면서 리스트 a에 데이터 x를 삽입할 가장 왼쪽 인덱스를 찾는 메서드 \n",
    "  * bisect_right(a, x): 정렬된 순서를 유지하도록 리스트 a에 데이터 x를 삽입할 가장 오른쪽 인덱스를 찾는 메서드\n",
    "  * 예를 들어 정렬된 리스트 [1,2,4,4,8]이 있을 때, 새롭게 데이터 4를 삽입하려 한다고 가정하면 bisect_left(a, 4)와 bisect_right(a, 4)는 각각 인덱스 값으로 2와 4를 반환\n",
    "* 또한 bisect_left(), right()함수는 '정렬된 리스트'에서 '값이 특정 범위에 속하는 원소의 개수'를 구하고자 할 때, 효과적으로 사용될 수 있다.\n",
    "  * 아래의 count_by_range(a, left_value, right_value) 함수를 확인"
   ]
  },
  {
   "cell_type": "code",
   "execution_count": 25,
   "metadata": {},
   "outputs": [
    {
     "name": "stdout",
     "output_type": "stream",
     "text": [
      "bisect_left: 2\n",
      "bisect_right: 4\n",
      "right_index: 8\n",
      "left_index: 6\n",
      "2\n",
      "right_index: 6\n",
      "left_index: 0\n",
      "6\n"
     ]
    }
   ],
   "source": [
    "# bisect 예제\n",
    "from bisect import bisect_left, bisect_right\n",
    "\n",
    "a = [1, 2, 4, 4, 8]\n",
    "x = 4\n",
    "\n",
    "print(\"bisect_left:\",bisect_left(a,x))\n",
    "print(\"bisect_right:\",bisect_right(a,x))\n",
    "\n",
    "# '정렬된 리스트'에서 '값이 특정 범위에 속하는 원소의 개수'를 구하기\n",
    "from bisect import bisect_left, bisect_right\n",
    "\n",
    "# 값이 [left_value, right_value]인 데이터의 개수를 반환하는 함수\n",
    "def count_by_range(a, left_value, right_value):\n",
    "    right_index = bisect_right(a, right_value)\n",
    "    print('right_index:',right_index)\n",
    "    left_index = bisect_left(a, left_value)\n",
    "    print('left_index:',left_index)\n",
    "    return right_index - left_index\n",
    "\n",
    "# 리스트 선언\n",
    "a = [1, 2, 3, 3, 3, 3, 4, 4, 8, 9]\n",
    "\n",
    "# 값이 4인 데이터 개수 출력\n",
    "print(count_by_range(a, 4, 4))\n",
    "\n",
    "# 값이 [-1, 3] 범위에 있는 데이터 개수 출력\n",
    "print(count_by_range(a, -1, 3))"
   ]
  },
  {
   "attachments": {},
   "cell_type": "markdown",
   "metadata": {},
   "source": [
    "### collection\n",
    "* collections 라이브러리는 유용한 자료구조를 제공하는 표준 라이브러리.\n",
    "* 코딩 테스트에 유용하게 사용되는 클래스는 deque와 Counter\n",
    "  * deque : 보통 파이썬에서는 deque를 사용해 큐를 구현.\n",
    "            별도 제공되는 Queue 라이브러리가 있는데 일반적인 큐 자료구조를 구현하는 라이브러리는 아님. 따라서 deque를 이용해 큐를 구현해야 한다는점 기억.\n",
    "            기본 리스트 자료형은 append() 메서드로 데이터 추가하거나 pop() 메서드로 데이터 삭제할 때 '가장 뒤쪽 원소'를 기준으로 수행,\n",
    "            따라서 앞쪽에 있는 원소를 처리할 때에는 리스트의 데이터 개수에 따라 많은 시간이 소요될 수 있음.\n",
    "            deque에서는 리스트 자료형과 다르게 인덱싱, 슬라이싱 등의 기능은 사용 불가.\n",
    "            다만, 연속적으로 나열된 데이터의 시작 부분이나 끝부분에 데이터를 삽입, 삭제할 때는 매우 효과적으로 사용.\n",
    "            deque는 스택이나 큐의 기능을 모두 포함한다고도 볼 수 있기 때문에 스택 혹은 큐 자료구조의 대응으로 사용될 수 있다. \n",
    "            첫 번째 원소 제거할 때 popleft() 사용, 마지막 원소 제거할 때 pop() 사용.\n",
    "            첫 번째 인덱스에 원소 삽입할 때 appendleft(x), 마지막 인덱스에 원소 삽입할 때 append(x).\n",
    "            따라서 deque를 큐 자료구조로 이용할 때, 원소를 삽입할 때에는 append()를 사용, 원소 삭제할 때에는 popleft()사용. 그러면 먼저 들어온 원소가 항상 먼저 나가게 됨."
   ]
  },
  {
   "cell_type": "code",
   "execution_count": 26,
   "metadata": {},
   "outputs": [
    {
     "name": "stdout",
     "output_type": "stream",
     "text": [
      "deque([1, 2, 3, 4, 5])\n",
      "[1, 2, 3, 4, 5]\n"
     ]
    }
   ],
   "source": [
    "# 리스트 [2, 3, 4]의 가장 앞쪽과 뒤쪽에 원소를 삽입하는 예시는 다음과 같다.\n",
    "from collections import deque\n",
    "\n",
    "data = deque([2, 3, 4])\n",
    "data.appendleft(1)\n",
    "data.append(5)\n",
    "\n",
    "print(data)\n",
    "print(list(data)) # 리스트 자료형으로 변환"
   ]
  },
  {
   "attachments": {},
   "cell_type": "markdown",
   "metadata": {},
   "source": [
    "* 파이썬 collections 라이브러리의 Counter는 등장 횟수를 세는 기능을 제공.\n",
    "* 구체적으로 리스트와 같은 iterable 객체가 주어졌을 때, 해당 객체 내부의 원소가 몇 번씩 등장했는지를 알려준다.\n",
    "* 따라서 원소별 등장 횟수를 세는 기능이 필요할 때 짧은 소스코드로 이를 구현할 수 있다."
   ]
  },
  {
   "cell_type": "code",
   "execution_count": 2,
   "metadata": {},
   "outputs": [
    {
     "name": "stdout",
     "output_type": "stream",
     "text": [
      "3\n",
      "1\n",
      "{'red': 2, 'blue': 3, 'green': 1}\n",
      "Counter({'blue': 3, 'red': 2, 'green': 1})\n"
     ]
    }
   ],
   "source": [
    "from collections import Counter\n",
    "\n",
    "counter = Counter(['red','blue','red','green','blue','blue'])\n",
    "\n",
    "print(counter['blue']) # 'blue'가 등장한 횟수 출력\n",
    "print(counter['green']) # 'green'이 등장한 횟수 출력\n",
    "print(dict(counter)) # 사전 자료형으로 변환"
   ]
  },
  {
   "attachments": {},
   "cell_type": "markdown",
   "metadata": {},
   "source": [
    "### math\n",
    "* math 라이브러리는 자주 사용되는 수학적인 기능을 포함하고 있는 라이브러리.\n",
    "* 팩토리얼, 제곱근, 최대공약수(GCD)등을 계산해주는 기능 포함, 수학 계산을 요구하는 문제 만났을 때 효과적으로 사용될 수 있음.\n",
    "* math 라이브러리의 함수\n",
    "  * factorial(x) 함수는 x! 값을 반환\n",
    "  * sqrt(x) 함수는 x의 제곱근을 반환\n",
    "  * gcd(a, b) 함수는 a와 b의 최대 공약수를 반환\n",
    "  * 수학 공식에서 자주 등장하는 상수가 필요할 때에도 math 라이브러리에서 제공하는 파이(pi)나 자연상수 e를 사용가능"
   ]
  },
  {
   "cell_type": "code",
   "execution_count": 7,
   "metadata": {},
   "outputs": [
    {
     "name": "stdout",
     "output_type": "stream",
     "text": [
      "120\n",
      "2.6457513110645907\n",
      "7\n",
      "3.141592653589793\n",
      "2.718281828459045\n"
     ]
    }
   ],
   "source": [
    "import math\n",
    "\n",
    "print(math.factorial(5)) # 5 팩토리얼 출력\n",
    "print(math.sqrt(7)) # 7의 제곱근을 출력\n",
    "print(math.gcd(21, 14)) # 21과 14의 최대 공약수 출력\n",
    "print(math.pi) # 파이(pi) 출력\n",
    "print(math.e) # 자연상수 e 출력"
   ]
  },
  {
   "attachments": {},
   "cell_type": "markdown",
   "metadata": {},
   "source": [
    "## <7> 자신만의 알고리즘 노트 만들기\n",
    "* 문제 풀면서 자신만의 라이브러리를 만들어 관리하는 것은 매우 좋은 습관.\n",
    "* 모르는 문제나 어려운 문제를 만났을 때는 문제를 복습하면서 반드시 소스코드를 정리하는 것 추천.\n",
    "* 이미 공부한 적이 있는 알고리즘도 틈날 때마다 소스코드를 보기 좋게 정리하는 습관 들이기.\n",
    "* 문제에서 사용한 소스코드들은 본인만의 라이브러리 노트에 기록해서 해당 문제를 해결하기 위해 사용한 기능을 라이브러리화하는 것을 추천.\n",
    "* 라이브러리를 만들 때는 단순히 함수만 작성하는 것보다 해당 함수의 사용 예시(방법)까지 같이 기록해 놓는 것을 추천.\n",
    "* 실제로 알고리즘 대회를 준비하는 사람들은 대체로 자신만의 팀 노트를 만듬\n",
    "  * 저자의 팀 노트 참조 : https://github.com/ndb796/Python-Competitive-Programming-Team-Notes#readme"
   ]
  },
  {
   "cell_type": "code",
   "execution_count": 21,
   "metadata": {},
   "outputs": [
    {
     "name": "stdout",
     "output_type": "stream",
     "text": [
      "rowLength: 3\n",
      "colLength: 4\n",
      "[[9, 5, 1], [10, 6, 2], [11, 7, 3], [12, 8, 4]]\n"
     ]
    }
   ],
   "source": [
    "# ex) 2차원 리스트(행렬)를 90도 회전시키는 함수\n",
    "'''2차원 리스트(행렬)를 90도 회전하는 메서드'''\n",
    "def rotate_a_matrix_by_90_degree(a):\n",
    "    row_length = len(a) # 행 길이\n",
    "    print('rowLength:',row_length)\n",
    "    column_length = len(a[0]) # 열 길이\n",
    "    print('colLength:',column_length)\n",
    "    \n",
    "    res  = [[0] * row_length for _ in range(column_length)] # 4행 3열 2차원 배열 생성\n",
    "    for r in range(row_length): # 행 길이 만큼 반복(3) : 0 ~ (3-1)\n",
    "        for c in range(column_length): # 열 길이 만큼 반복(4) : 0 ~ (4-1)\n",
    "            res[c][row_length - 1 - r] = a[r][c] # res의 0행의 끝열부터, 행단위로 a[r][c]값 채워나감 : res[0] -> [1] -> ...\n",
    "      \n",
    "    return res\n",
    "  \n",
    "# 사용 예시\n",
    "a = [\n",
    "    [1, 2, 3, 4],\n",
    "    [5, 6, 7, 8],\n",
    "    [9, 10, 11, 12],\n",
    "]\n",
    "\n",
    "print(rotate_a_matrix_by_90_degree(a))"
   ]
  }
 ],
 "metadata": {
  "kernelspec": {
   "display_name": "Python 3",
   "language": "python",
   "name": "python3"
  },
  "language_info": {
   "codemirror_mode": {
    "name": "ipython",
    "version": 3
   },
   "file_extension": ".py",
   "mimetype": "text/x-python",
   "name": "python",
   "nbconvert_exporter": "python",
   "pygments_lexer": "ipython3",
   "version": "3.9.7"
  },
  "orig_nbformat": 4,
  "vscode": {
   "interpreter": {
    "hash": "ed18a50910d9dbf8d8968e1f138e78527a400ffe0f1e62c7fab5b17adcab28ab"
   }
  }
 },
 "nbformat": 4,
 "nbformat_minor": 2
}
