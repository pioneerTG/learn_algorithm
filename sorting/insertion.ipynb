{
 "cells": [
  {
   "attachments": {},
   "cell_type": "markdown",
   "metadata": {},
   "source": [
    "# 삽입 정렬\n",
    "* 선택 정렬은 알고리즘 문제 풀이에 사용하기엔 느린편, 삽입 정렬은 선택 정렬에 비해 실행 시간 측면에서 더 효율적인 알고리즘.\n",
    "* 삽입 정렬은 특정한 데이터를 적절한 위치에 '삽입'한다는 의미에서 삽입 정렬(Insertion Sort)라고 부름.\n",
    "* 특정한 데이터가 적절한 위치에 들어가기 이전에, 그 앞까지의 데이터는 이미 정렬되어 있다고 가정.\n",
    "* 정렬되어 있는 데이터 리스트에서 적절한 위치를 찾은 뒤에, 그 위치에 삽입된다는 점이 특징.\n",
    "* 왼쪽에 있는 데이터들은 이미 정렬 된 상태이므로, 자기보다 작은 데이터를 만났다면 그 자리에 삽입되면 됨."
   ]
  },
  {
   "cell_type": "code",
   "execution_count": 2,
   "metadata": {},
   "outputs": [
    {
     "name": "stdout",
     "output_type": "stream",
     "text": [
      "[0, 1, 2, 3, 4, 5, 6, 7, 8, 9]\n"
     ]
    }
   ],
   "source": [
    "array = [7, 5, 9, 0, 3, 1, 6, 2, 4, 8]\n",
    "\n",
    "for i in range(1, len(array)):\n",
    "    for j in range(i, 0, -1): # 인덱스 i부터 1까지 감소하며 반복하는 문법\n",
    "        if array[j] < array[j - 1] : # 한 칸씩 왼쪽으로 이동\n",
    "            array[j],array[j - 1] = array[j - 1], array[j] # array[j]값이 array[j-1]보다 작을시 swap\n",
    "        else: # 자기보다 작은 데이터를 만나면 그 위치에서 멈춤\n",
    "            break\n",
    "        \n",
    "print(array)"
   ]
  },
  {
   "attachments": {},
   "cell_type": "markdown",
   "metadata": {},
   "source": [
    "* 삽입 정렬의 시간 복잡도는 O($N^2$)이며, 선택 정렬과 마찬가지로 반복문이 두 번 중첩되어 사용.\n",
    "* 현재 리스트의 데이터가 거의 정렬되어 있는 상태라면 매우 빠르게 동작\n",
    "  * 최선의 경우 O(N)의 시간 복잡도를 가짐"
   ]
  }
 ],
 "metadata": {
  "kernelspec": {
   "display_name": "Python 3",
   "language": "python",
   "name": "python3"
  },
  "language_info": {
   "codemirror_mode": {
    "name": "ipython",
    "version": 3
   },
   "file_extension": ".py",
   "mimetype": "text/x-python",
   "name": "python",
   "nbconvert_exporter": "python",
   "pygments_lexer": "ipython3",
   "version": "3.9.7"
  },
  "orig_nbformat": 4
 },
 "nbformat": 4,
 "nbformat_minor": 2
}
