{
 "cells": [
  {
   "attachments": {},
   "cell_type": "markdown",
   "metadata": {},
   "source": [
    "## 위에서 아래로\n",
    "* 하나의 수열에는 다양한 수가 존재한다. 이러한 수는 크기에 상관없이 나열되어 있다.\n",
    "* 이 수를 큰 수부터 작은 수의 순서로 정렬해야 한다. 수열을 내림차순으로 정렬하는 프로그램을 만드시오.\n",
    "\n",
    "### 입력 조건\n",
    "* 첫째 줄에 수열에 속해 있는 수의 개수 N이 주어진다. ($ 1 \\le N \\le 500 $)\n",
    "* 둘째 줄부터 N + 1번째 줄까지 N개의 수가 입력된다. 수의 범위는 1이상 100,000 이하의 자연수이다.\n",
    "\n",
    "### 출력 조건\n",
    "* 입력으로 주어진 수열이 내림차순으로 정렬된 결과를 공백으로 구분하여 출력한다. 동일한 수의 순서는 자유롭게 출력해도 괜찮다.\n",
    "  \n",
    "### 입력 예시\n",
    "```\n",
    "3\n",
    "15\n",
    "27\n",
    "12\n",
    "```\n",
    "\n",
    "### 출력예시\n",
    "```\n",
    "27 15 12\n",
    "```"
   ]
  },
  {
   "cell_type": "code",
   "execution_count": 2,
   "metadata": {},
   "outputs": [
    {
     "name": "stdout",
     "output_type": "stream",
     "text": [
      "27 15 12 "
     ]
    }
   ],
   "source": [
    "# N을 입력받기\n",
    "n = int(input())\n",
    "\n",
    "# N개의 정수를 입력받아 리스트에 저장\n",
    "array = []\n",
    "for i in range(n):\n",
    "    array.append(int(input()))\n",
    "\n",
    "# 파이썬 기본 정렬 라이브러리를 이용해 정렬 수행\n",
    "array = sorted(array, reverse=True)\n",
    "\n",
    "# 정렬이 수행된 결과를 출력\n",
    "for i in array:\n",
    "    print(i, end=' ')"
   ]
  },
  {
   "attachments": {},
   "cell_type": "markdown",
   "metadata": {},
   "source": [
    "## 성적이 낮은 순서로 학생 출력하기\n",
    "* N명의 학생 정보가 있다. 학생 정보는 이름, 성적으로 구분.\n",
    "* 각 학생의 이름과 성적 정보가 주어졌을 때, 성적이 낮은 순서대로 학생의 이름을 출력하는 프로그램 작성.\n",
    "\n",
    "### 입력 조건\n",
    "* 첫 번째 줄에 학생의 수 N이 입력된다. ($ 1 \\le N \\le 100,000 $)\n",
    "* 두 번째 줄부터 N + 1번째 줄에는 학생의 이름을 나타내는 문자열 A와 학생의 성적을 나타내는 점수 B가 공백으로 구분되어 입력.\n",
    "* 문자열 A의 길이와 학생의 성적은 100 이하의 자연수.\n",
    "\n",
    "### 출력 조건\n",
    "* 모든 학생의 이름을 성적이 낮은 순서대로 출력한다. 성적이 동일한 학생들의 순서는 자유롭게 출력해도 괜찮다.\n",
    "\n",
    "### 입력 예시\n",
    "```\n",
    "2\n",
    "홍길동 95\n",
    "이순신 77\n",
    "```\n",
    "\n",
    "### 출력 예시\n",
    "```\n",
    "이순신 홍길동\n",
    "```"
   ]
  },
  {
   "cell_type": "code",
   "execution_count": 6,
   "metadata": {},
   "outputs": [
    {
     "name": "stdout",
     "output_type": "stream",
     "text": [
      "이순신 홍길동 "
     ]
    }
   ],
   "source": [
    "# N을 입력받기\n",
    "n = int(input())\n",
    "\n",
    "# N명의 학생 정보를 입력받아 리스트에 저장\n",
    "array = []\n",
    "for i in range(n):\n",
    "    input_data = input().split()\n",
    "    # 이름은 문자열 그대로, 점수는 정수형으로 변환하여 저장\n",
    "    array.append((input_data[0], int(input_data[1]))) # 원소의 성질이 다르므로 튜플을 사용.\n",
    "\n",
    "# 키(Key)를 이용하여, 점수를 기준으로 정렬\n",
    "array = sorted(array, key=lambda student: student[1]) # 키값으로 인수 student를 사용해서 array두 번째 요소 반환받음\n",
    "\n",
    "# 정렬이 수행된 결과를 출력\n",
    "for student in array:\n",
    "    print(student[0], end=' ')"
   ]
  }
 ],
 "metadata": {
  "kernelspec": {
   "display_name": "Python 3",
   "language": "python",
   "name": "python3"
  },
  "language_info": {
   "codemirror_mode": {
    "name": "ipython",
    "version": 3
   },
   "file_extension": ".py",
   "mimetype": "text/x-python",
   "name": "python",
   "nbconvert_exporter": "python",
   "pygments_lexer": "ipython3",
   "version": "3.9.7"
  },
  "orig_nbformat": 4
 },
 "nbformat": 4,
 "nbformat_minor": 2
}
