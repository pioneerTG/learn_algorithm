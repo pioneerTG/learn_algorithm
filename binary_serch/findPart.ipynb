{
 "cells": [
  {
   "attachments": {},
   "cell_type": "markdown",
   "metadata": {},
   "source": [
    "## 부품 찾기\n",
    "* 매장에 부품이 N개 있다. 각 부품은 정수 형태의 고유 번호가 있다.\n",
    "* 손님이 M개 종류의 부품을 구매할 때 가게 안에 부품이 모두 있는지 확인하는 프로그램 작성\n",
    "\n",
    "### 입력 조건\n",
    "* 첫째 줄에 정수 N이 주어짐. ($ 1 \\le N \\le 1,000,000 $)\n",
    "* 둘째 줄에는 공백으로 구분하여 N개의 정수가 주어짐. 이때 정수는 1보다 크고 1,000,000 이하이다.\n",
    "* 셋째 줄에는 정수 M이 주어짐. ($ 1 \\le M \\le 100,000 $)\n",
    "* 넷째 줄에는 공백으로 구분하여 M개의 정수가 주어진다. 이때 정수는 1보다 크고, 1,000,000 이하이다.\n",
    "\n",
    "### 출력 조건\n",
    "* 첫째 줄에 공백으로 구분하여 각 부품이 존재하면 yes를, 없으면 no를 출력한다.\n",
    "\n",
    "### 입력 예시\n",
    "```\n",
    "5\n",
    "8 3 7 9 2\n",
    "3\n",
    "5 7 9\n",
    "```\n",
    "### 출력 예시\n",
    "`no yes yes`"
   ]
  },
  {
   "attachments": {},
   "cell_type": "markdown",
   "metadata": {},
   "source": [
    "### 문제 해설\n",
    "* 매장 내 N개의 부품을 번호를 기준으로 정렬. 그 이후 M개의 찾고자 하는 부품이 각각 매장에 존재하는지 검사하면 됨.\n",
    "* 이때 매장의 부품들은 정렬되어 있기 때문에 이진 탐색을 수행하여 찾을 수 있음. \n",
    "* 이진 탐색을 사용하는 문제 풀이 방법의 경우 시간 복잡도는 O((M+N) x logN)"
   ]
  },
  {
   "cell_type": "code",
   "execution_count": 2,
   "metadata": {},
   "outputs": [
    {
     "name": "stdout",
     "output_type": "stream",
     "text": [
      "no yes yes "
     ]
    }
   ],
   "source": [
    "# 이진 탐색 소스코드 구현(반복문)\n",
    "def binary_search(array, target, start, end):\n",
    "    while start <= end:\n",
    "        mid = (start + end) // 2\n",
    "        # 찾은 경우 중간점 인덱스 반환\n",
    "        if array[mid] == target:\n",
    "            return mid\n",
    "        # 중간점의 값보다 찾고자 하는 값이 작은 경우 왼쪽 확인\n",
    "        elif array[mid] > target:\n",
    "            end = mid - 1\n",
    "        # 중간점의 값보다 찾고자 하는 값이 큰 경우 오른쪽 확인\n",
    "        else:\n",
    "            start = mid + 1\n",
    "    return None\n",
    "\n",
    "# N(가게의 부품 개수) 입력\n",
    "n = int(input())\n",
    "# 가게에 있는 전체 부품 번호를 공백으로 구분 입력\n",
    "array = list(map(int, input().split()))\n",
    "array.sort() # 이진 탐색을 수행하기 위해 사전에 정렬 수행\n",
    "# M(손님이 확인 요청한 부품 개수) 입력\n",
    "m = int(input())\n",
    "# 손님이 확인 요청한 전체 부품 번호를 공백으로 구분해 입력\n",
    "x = list(map(int, input().split()))\n",
    "\n",
    "# 손님이 확인 요청한 부품 번호를 하나씩 확인\n",
    "for i in x:\n",
    "    # 해당 부품이 존재하는지 확인\n",
    "    result = binary_search(array, i, 0, n - 1)\n",
    "    if result != None:\n",
    "        print('yes', end=' ')\n",
    "    else:\n",
    "        print('no', end=' ')\n"
   ]
  },
  {
   "attachments": {},
   "cell_type": "markdown",
   "metadata": {},
   "source": [
    "* 계수 정렬의 개념을 이용하여 문제를 풀 수도 있다. 모든 원소의 번호를 포함할 수 있는 크기의 리스트를 만든 뒤, 리스트의 인덱스에 직접 접근하여 특정한 번호의 부품이 매장에 존재하는지 확인하면 된다."
   ]
  },
  {
   "cell_type": "code",
   "execution_count": null,
   "metadata": {},
   "outputs": [],
   "source": [
    "# N(가게의 부품 개수)을 입력받기\n",
    "n = int(input())\n",
    "array = [0] * 1000001\n",
    "\n",
    "# 가게에 있는 전체 부품 번호를 입력받아서 기록\n",
    "for i in input().split():\n",
    "    array[int(i)] = 1\n",
    "\n",
    "# M(손님이 확인 요청한 부품 개수)을 입력받기\n",
    "m = int(input())\n",
    "# 손님이 확인 요청한 전체 부품 번호를 공백으로 구분하여 입력\n",
    "x = list(map(int, input().split()))\n",
    "\n",
    "# 손님이 확인 욫어한 부품 번호를 하나씩 확인\n",
    "for i in x:\n",
    "    # 해당 부품이 존재하는지 확인\n",
    "    if array[i] == 1:\n",
    "        print('yes', end=' ')\n",
    "    else:\n",
    "        print('no', end=' ')"
   ]
  },
  {
   "attachments": {},
   "cell_type": "markdown",
   "metadata": {},
   "source": [
    "* 또는 이 문제는 단순히 특정한 수가 한 번이라도 등장했는지를 검사하면 되므로 집합 자료형을 이용해서 문제를 해결할 수 있다.\n",
    "* set() 함수는 집합 자료형을 초기화할 때 사용한다.\n",
    "* 이러한 집합 자료형은 단순히 특정한 데이터가 존재하는지 검사할 때에 매우 효과적으로 사용할 수 있다. 다음 소스코드가 간결한 측면에서는 가장 우수."
   ]
  },
  {
   "cell_type": "code",
   "execution_count": null,
   "metadata": {},
   "outputs": [],
   "source": [
    "# N(가게의 부품 개수)을 입력받기\n",
    "n = int(input())\n",
    "# 가게에 있는 전체 부품 번호를 입력받아서 집합(set) 자료형에 기록\n",
    "array = set(map(int, input().split()))\n",
    "\n",
    "# M(손님이 확인 요청한 부품 개수)을 입력 받기\n",
    "m = int(input())\n",
    "# 손님이 확인 요청한 전체 부품 번호를 공백으로 구분하여 입력\n",
    "x = list(map(int, input().split()))\n",
    "\n",
    "# 손님이 확인 요청한 부품 번호를 하나씩 확인\n",
    "for i in x:\n",
    "    # 해당 부품이 존재하는지 확인\n",
    "    if i in array:\n",
    "        print('yes', end=' ')\n",
    "    else:\n",
    "        print('no', end=' ')"
   ]
  }
 ],
 "metadata": {
  "kernelspec": {
   "display_name": "Python 3",
   "language": "python",
   "name": "python3"
  },
  "language_info": {
   "codemirror_mode": {
    "name": "ipython",
    "version": 3
   },
   "file_extension": ".py",
   "mimetype": "text/x-python",
   "name": "python",
   "nbconvert_exporter": "python",
   "pygments_lexer": "ipython3",
   "version": "3.9.7"
  },
  "orig_nbformat": 4
 },
 "nbformat": 4,
 "nbformat_minor": 2
}
