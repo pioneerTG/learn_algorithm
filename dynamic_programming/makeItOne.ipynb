{
 "cells": [
  {
   "attachments": {},
   "cell_type": "markdown",
   "metadata": {},
   "source": [
    "## 1로 만들기\n",
    "정수 x가 주어질 때 정수 x에 사용할 수 있는 연산은 다음과 같이 4가지이다.\n",
    "  a : x가 5로 나누어떨어지면, 5로 나눈다.\n",
    "  b : x가 3으로 나누어떨어지면, 3으로 나눈다.\n",
    "  c : x가 2로 나누어 떨어지면 2로 나눈다.\n",
    "  d : x에서 1을 뺀다.\n",
    "정수 x가 주어졌을 때, 연산 4개를 적절히 사용해서 1을 만들려고 한다. 연산을 사용하는 횟수의 최솟값을 출력하시오.\n",
    "예를 들어 정수가 26이면 다음과 같이 계산해서 3번의 연산이 최솟갑싱다.\n",
    "1. 26 - 1 = 25(d)\n",
    "2. 25 / 5 = 5(a)\n",
    "3. 5 / 5 = 1(a)\n",
    "\n",
    "### 입력 조건\n",
    "* 첫째 줄에 정수 X가 주어진다. ($ 1 \\le X \\le 30,000 $)\n",
    "  \n",
    "### 출력 조건\n",
    "* 첫째 줄에 연산을 하는 횟수의 최솟값을 출력한다.\n",
    "  \n",
    "### 입력 예시\n",
    "`26`\n",
    "\n",
    "### 출력 예시\n",
    "`3`"
   ]
  },
  {
   "cell_type": "code",
   "execution_count": 1,
   "metadata": {},
   "outputs": [
    {
     "name": "stdout",
     "output_type": "stream",
     "text": [
      "3\n"
     ]
    }
   ],
   "source": [
    "# 점수 X를 입력받기\n",
    "x = int(input()) # 26\n",
    "\n",
    "# 앞서 계산된 결과를 저장하기 위한 DP 테이블 초기화\n",
    "d = [0] * 30001\n",
    "\n",
    "# 다이나믹 프로그래밍(Dynamic Programming) 진행(보텀업)\n",
    "for i in range(2, x + 1):\n",
    "    # 현재의 수에서 1을 빼는 경우\n",
    "    d[i] = d[i-1] + 1\n",
    "    # 현재의 수가 2로 나누어 떨어지는 경우\n",
    "    if i % 2 == 0:\n",
    "        d[i] = min(d[i], d[i // 2] + 1)\n",
    "    # 현재의 수가 3으로 나누어 떨어지는 경우\n",
    "    if i % 3 == 0:\n",
    "        d[i] = min(d[i], d[i // 3] + 1)\n",
    "    # 현재의 수가 5로 나누어 떨어지는 경우\n",
    "    if i % 5 == 0:\n",
    "        d[i] = min(d[i], d[i // 5] + 1)\n",
    "\n",
    "print(d[x])"
   ]
  }
 ],
 "metadata": {
  "kernelspec": {
   "display_name": "Python 3",
   "language": "python",
   "name": "python3"
  },
  "language_info": {
   "codemirror_mode": {
    "name": "ipython",
    "version": 3
   },
   "file_extension": ".py",
   "mimetype": "text/x-python",
   "name": "python",
   "nbconvert_exporter": "python",
   "pygments_lexer": "ipython3",
   "version": "3.9.7"
  },
  "orig_nbformat": 4
 },
 "nbformat": 4,
 "nbformat_minor": 2
}
